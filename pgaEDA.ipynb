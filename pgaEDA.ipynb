{
 "cells": [
  {
   "cell_type": "markdown",
   "metadata": {},
   "source": [
    "# PGA Tour 2019 EDA"
   ]
  },
  {
   "cell_type": "markdown",
   "metadata": {},
   "source": [
    "## The Big Questions"
   ]
  },
  {
   "cell_type": "markdown",
   "metadata": {},
   "source": [
    "One of my favorite Golf Digest segments is the *Undercover Tour Pro* series. The articles feature the opinions of anonymous PGA Tour players, giving insight into what really goes on inside the ropes. A while ago, I read such an article in which an undercover pro explained that most players on the PGA Tour are [only in it for the money.](https://www.golfdigest.com/story/undercover-tour-pro-2015-03) In short, the article explains that very few players are concerned about the history of it all, and what fans might remember of them 50 years after they retire. The rest, while they may love the game, grind day in and day out because, after all, it's their job. To a large degree, this article has inspired this project."
   ]
  },
  {
   "cell_type": "markdown",
   "metadata": {},
   "source": [
    "If a large number of PGA Tour players are most concerned with making cuts and keeping their tour card, I began to wonder about what exactly makes a player excel at just this. In this project, I will be exploring the playing statistics of PGA Tour players from the 2019 season to determine the putting characteristics of the best money earners on tour."
   ]
  },
  {
   "cell_type": "markdown",
   "metadata": {},
   "source": [
    "## Importing Libraries"
   ]
  },
  {
   "cell_type": "code",
   "execution_count": 35,
   "metadata": {},
   "outputs": [],
   "source": [
    "# Linear algebra\n",
    "import numpy as np\n",
    "\n",
    "# Data processing\n",
    "import pandas as pd\n",
    "pd.options.mode.chained_assignment = None  # default='warn'\n",
    "\n",
    "# Show lots of columns and rows in pandas\n",
    "pd.set_option('display.max_rows', 50)\n",
    "pd.set_option('display.max_columns', 3000)\n",
    "pd.set_option('display.width', 3000)\n",
    "\n",
    "# Data visualization\n",
    "%matplotlib inline\n",
    "from matplotlib import pyplot as plt\n",
    "from matplotlib import style\n",
    "\n",
    "import seaborn as sns\n",
    "\n",
    "import plotly.graph_objects as go\n",
    "import plotly.express as px"
   ]
  },
  {
   "cell_type": "markdown",
   "metadata": {},
   "source": [
    "## Loading the Data"
   ]
  },
  {
   "cell_type": "code",
   "execution_count": 5,
   "metadata": {},
   "outputs": [],
   "source": [
    "dataset = pd.read_csv('2019_data.csv')"
   ]
  },
  {
   "cell_type": "markdown",
   "metadata": {},
   "source": [
    "## Data Processing"
   ]
  },
  {
   "cell_type": "code",
   "execution_count": 36,
   "metadata": {
    "scrolled": true
   },
   "outputs": [
    {
     "name": "stdout",
     "output_type": "stream",
     "text": [
      "<class 'pandas.core.frame.DataFrame'>\n",
      "RangeIndex: 9720529 entries, 0 to 9720528\n",
      "Data columns (total 5 columns):\n",
      " #   Column       Dtype \n",
      "---  ------       ----- \n",
      " 0   Player Name  object\n",
      " 1   Date         object\n",
      " 2   Statistic    object\n",
      " 3   Variable     object\n",
      " 4   Value        object\n",
      "dtypes: object(5)\n",
      "memory usage: 370.8+ MB\n"
     ]
    }
   ],
   "source": [
    "dataset.info()"
   ]
  },
  {
   "cell_type": "code",
   "execution_count": 37,
   "metadata": {
    "scrolled": true
   },
   "outputs": [
    {
     "data": {
      "text/html": [
       "<div>\n",
       "<style scoped>\n",
       "    .dataframe tbody tr th:only-of-type {\n",
       "        vertical-align: middle;\n",
       "    }\n",
       "\n",
       "    .dataframe tbody tr th {\n",
       "        vertical-align: top;\n",
       "    }\n",
       "\n",
       "    .dataframe thead th {\n",
       "        text-align: right;\n",
       "    }\n",
       "</style>\n",
       "<table border=\"1\" class=\"dataframe\">\n",
       "  <thead>\n",
       "    <tr style=\"text-align: right;\">\n",
       "      <th></th>\n",
       "      <th>Player Name</th>\n",
       "      <th>Date</th>\n",
       "      <th>Statistic</th>\n",
       "      <th>Variable</th>\n",
       "      <th>Value</th>\n",
       "    </tr>\n",
       "  </thead>\n",
       "  <tbody>\n",
       "    <tr>\n",
       "      <th>0</th>\n",
       "      <td>Cameron Champ</td>\n",
       "      <td>2019-08-25</td>\n",
       "      <td>Driving Distance</td>\n",
       "      <td>Driving Distance - (ROUNDS)</td>\n",
       "      <td>78</td>\n",
       "    </tr>\n",
       "    <tr>\n",
       "      <th>1</th>\n",
       "      <td>Rory McIlroy</td>\n",
       "      <td>2019-08-25</td>\n",
       "      <td>Driving Distance</td>\n",
       "      <td>Driving Distance - (ROUNDS)</td>\n",
       "      <td>72</td>\n",
       "    </tr>\n",
       "    <tr>\n",
       "      <th>2</th>\n",
       "      <td>Luke List</td>\n",
       "      <td>2019-08-25</td>\n",
       "      <td>Driving Distance</td>\n",
       "      <td>Driving Distance - (ROUNDS)</td>\n",
       "      <td>66</td>\n",
       "    </tr>\n",
       "    <tr>\n",
       "      <th>3</th>\n",
       "      <td>Dustin Johnson</td>\n",
       "      <td>2019-08-25</td>\n",
       "      <td>Driving Distance</td>\n",
       "      <td>Driving Distance - (ROUNDS)</td>\n",
       "      <td>73</td>\n",
       "    </tr>\n",
       "    <tr>\n",
       "      <th>4</th>\n",
       "      <td>Wyndham Clark</td>\n",
       "      <td>2019-08-25</td>\n",
       "      <td>Driving Distance</td>\n",
       "      <td>Driving Distance - (ROUNDS)</td>\n",
       "      <td>87</td>\n",
       "    </tr>\n",
       "  </tbody>\n",
       "</table>\n",
       "</div>"
      ],
      "text/plain": [
       "      Player Name        Date         Statistic                     Variable Value\n",
       "0   Cameron Champ  2019-08-25  Driving Distance  Driving Distance - (ROUNDS)    78\n",
       "1    Rory McIlroy  2019-08-25  Driving Distance  Driving Distance - (ROUNDS)    72\n",
       "2       Luke List  2019-08-25  Driving Distance  Driving Distance - (ROUNDS)    66\n",
       "3  Dustin Johnson  2019-08-25  Driving Distance  Driving Distance - (ROUNDS)    73\n",
       "4   Wyndham Clark  2019-08-25  Driving Distance  Driving Distance - (ROUNDS)    87"
      ]
     },
     "execution_count": 37,
     "metadata": {},
     "output_type": "execute_result"
    }
   ],
   "source": [
    "dataset.head()"
   ]
  },
  {
   "cell_type": "code",
   "execution_count": 38,
   "metadata": {},
   "outputs": [
    {
     "data": {
      "text/plain": [
       "378"
      ]
     },
     "execution_count": 38,
     "metadata": {},
     "output_type": "execute_result"
    }
   ],
   "source": [
    "dataset['Statistic'].nunique()"
   ]
  },
  {
   "cell_type": "markdown",
   "metadata": {},
   "source": [
    "This is great. We have lots of variables to choose from (378 to be exact). We obviously won't need all of these, so I have narrowed down 20 statistics that appear to be representative of different abilities in golf, and then clean the data by removing NaN values, converting values to float, and renaming the column labels."
   ]
  },
  {
   "cell_type": "markdown",
   "metadata": {},
   "source": [
    "While the PGA Tour offers a plethora of different features, I focussed on ones that a PGA Tour player has more control over, and could potentially focus their efforts on to improve their performace, rather than statistics seemingly based on chance. For example, a player may have little control over changes in their putting performance from round two to round three, but it may be helpful to know whether driving distance or lag putting ability will help them earn the most money each week."
   ]
  },
  {
   "cell_type": "code",
   "execution_count": 39,
   "metadata": {},
   "outputs": [],
   "source": [
    "s1 = 'All-Around Ranking - (TOTAL)'\n",
    "s2 = 'Average Approach Shot Distance - (AVG)'\n",
    "s3 = 'Club Head Speed - (AVG.)'\n",
    "s4 = 'Driving Distance - (AVG.)'\n",
    "s5 = 'FedExCup Season Points - (POINTS)'\n",
    "s6 = 'GIR Percentage from Fairway - (%)'\n",
    "s7 = 'GIR Percentage from Other than Fairway - (%)'\n",
    "s8 = 'Good Drive Percentage - (%)'\n",
    "s9 = 'Greens in Regulation Percentage - (%)'\n",
    "s10 = 'Hit Fairway Percentage - (%)'\n",
    "s11 = 'Overall Putting Average - (AVG)'\n",
    "s12 = 'Par 3 Scoring Average - (AVG)'\n",
    "s13 = 'Par 4 Scoring Average - (AVG)'\n",
    "s14 = 'Par 5 Scoring Average - (AVG)'\n",
    "s15 = \"Putting from - > 10' - (% MADE)\"\n",
    "s16 = \"Putting from 4-8' - (% MADE)\"\n",
    "s17 = \"3-Putt Avoidance > 25' - (%)\"\n",
    "s18 = 'Putts Per Round - (AVG)'\n",
    "s19 = 'Sand Save Percentage - (%)'\n",
    "s20 = 'Scrambling - (%)'\n",
    "\n",
    "keep_stats = [s1, s2, s3, s4, s5, s6, s7, s8, s9, s10, s11, s12, s13, s14, s15, s16, s17, s18, s19, s20]"
   ]
  },
  {
   "cell_type": "code",
   "execution_count": 40,
   "metadata": {
    "scrolled": false
   },
   "outputs": [
    {
     "data": {
      "text/html": [
       "<div>\n",
       "<style scoped>\n",
       "    .dataframe tbody tr th:only-of-type {\n",
       "        vertical-align: middle;\n",
       "    }\n",
       "\n",
       "    .dataframe tbody tr th {\n",
       "        vertical-align: top;\n",
       "    }\n",
       "\n",
       "    .dataframe thead th {\n",
       "        text-align: right;\n",
       "    }\n",
       "</style>\n",
       "<table border=\"1\" class=\"dataframe\">\n",
       "  <thead>\n",
       "    <tr style=\"text-align: right;\">\n",
       "      <th></th>\n",
       "      <th>Player Name</th>\n",
       "      <th>Date</th>\n",
       "      <th>Statistic</th>\n",
       "      <th>Variable</th>\n",
       "      <th>Value</th>\n",
       "    </tr>\n",
       "  </thead>\n",
       "  <tbody>\n",
       "    <tr>\n",
       "      <th>188</th>\n",
       "      <td>Cameron Champ</td>\n",
       "      <td>2019-08-25</td>\n",
       "      <td>Driving Distance</td>\n",
       "      <td>Driving Distance - (AVG.)</td>\n",
       "      <td>317.9</td>\n",
       "    </tr>\n",
       "    <tr>\n",
       "      <th>189</th>\n",
       "      <td>Rory McIlroy</td>\n",
       "      <td>2019-08-25</td>\n",
       "      <td>Driving Distance</td>\n",
       "      <td>Driving Distance - (AVG.)</td>\n",
       "      <td>313.5</td>\n",
       "    </tr>\n",
       "    <tr>\n",
       "      <th>190</th>\n",
       "      <td>Luke List</td>\n",
       "      <td>2019-08-25</td>\n",
       "      <td>Driving Distance</td>\n",
       "      <td>Driving Distance - (AVG.)</td>\n",
       "      <td>313.3</td>\n",
       "    </tr>\n",
       "    <tr>\n",
       "      <th>191</th>\n",
       "      <td>Dustin Johnson</td>\n",
       "      <td>2019-08-25</td>\n",
       "      <td>Driving Distance</td>\n",
       "      <td>Driving Distance - (AVG.)</td>\n",
       "      <td>312.0</td>\n",
       "    </tr>\n",
       "    <tr>\n",
       "      <th>192</th>\n",
       "      <td>Wyndham Clark</td>\n",
       "      <td>2019-08-25</td>\n",
       "      <td>Driving Distance</td>\n",
       "      <td>Driving Distance - (AVG.)</td>\n",
       "      <td>311.8</td>\n",
       "    </tr>\n",
       "  </tbody>\n",
       "</table>\n",
       "</div>"
      ],
      "text/plain": [
       "        Player Name        Date         Statistic                   Variable  Value\n",
       "188   Cameron Champ  2019-08-25  Driving Distance  Driving Distance - (AVG.)  317.9\n",
       "189    Rory McIlroy  2019-08-25  Driving Distance  Driving Distance - (AVG.)  313.5\n",
       "190       Luke List  2019-08-25  Driving Distance  Driving Distance - (AVG.)  313.3\n",
       "191  Dustin Johnson  2019-08-25  Driving Distance  Driving Distance - (AVG.)  312.0\n",
       "192   Wyndham Clark  2019-08-25  Driving Distance  Driving Distance - (AVG.)  311.8"
      ]
     },
     "execution_count": 40,
     "metadata": {},
     "output_type": "execute_result"
    }
   ],
   "source": [
    "# Pare the dataset down to the 20 statistics\n",
    "data = dataset.loc[dataset['Variable'].isin(keep_stats)]\n",
    "data.head()"
   ]
  },
  {
   "cell_type": "code",
   "execution_count": 41,
   "metadata": {
    "scrolled": true
   },
   "outputs": [
    {
     "name": "stdout",
     "output_type": "stream",
     "text": [
      "<class 'pandas.core.frame.DataFrame'>\n",
      "Int64Index: 129600 entries, 188 to 9687033\n",
      "Data columns (total 5 columns):\n",
      " #   Column       Non-Null Count   Dtype \n",
      "---  ------       --------------   ----- \n",
      " 0   Player Name  129600 non-null  object\n",
      " 1   Date         129600 non-null  object\n",
      " 2   Statistic    129600 non-null  object\n",
      " 3   Variable     129600 non-null  object\n",
      " 4   Value        129600 non-null  object\n",
      "dtypes: object(5)\n",
      "memory usage: 5.9+ MB\n"
     ]
    }
   ],
   "source": [
    "data.info()"
   ]
  },
  {
   "cell_type": "code",
   "execution_count": 42,
   "metadata": {},
   "outputs": [],
   "source": [
    "data['Value'] = data['Value'].replace('[\\$,]', '', regex=True).astype(float)\n",
    "data['Value'] = pd.to_numeric(data['Value'],errors='coerce')"
   ]
  },
  {
   "cell_type": "code",
   "execution_count": 43,
   "metadata": {
    "scrolled": true
   },
   "outputs": [
    {
     "data": {
      "text/plain": [
       "Player Name    0\n",
       "Date           0\n",
       "Statistic      0\n",
       "Variable       0\n",
       "Value          0\n",
       "dtype: int64"
      ]
     },
     "execution_count": 43,
     "metadata": {},
     "output_type": "execute_result"
    }
   ],
   "source": [
    "data.isna().sum()"
   ]
  },
  {
   "cell_type": "markdown",
   "metadata": {},
   "source": [
    "We have no missing values, which is great. But, we can see that the formatting of the original csv isn't exactly conducive to analysis. We can change that by using a pivot table."
   ]
  },
  {
   "cell_type": "code",
   "execution_count": 44,
   "metadata": {
    "scrolled": true
   },
   "outputs": [
    {
     "data": {
      "text/html": [
       "<div>\n",
       "<style scoped>\n",
       "    .dataframe tbody tr th:only-of-type {\n",
       "        vertical-align: middle;\n",
       "    }\n",
       "\n",
       "    .dataframe tbody tr th {\n",
       "        vertical-align: top;\n",
       "    }\n",
       "\n",
       "    .dataframe thead th {\n",
       "        text-align: right;\n",
       "    }\n",
       "</style>\n",
       "<table border=\"1\" class=\"dataframe\">\n",
       "  <thead>\n",
       "    <tr style=\"text-align: right;\">\n",
       "      <th>Variable</th>\n",
       "      <th>3-Putt Avoidance &gt; 25' - (%)</th>\n",
       "      <th>All-Around Ranking - (TOTAL)</th>\n",
       "      <th>Average Approach Shot Distance - (AVG)</th>\n",
       "      <th>Club Head Speed - (AVG.)</th>\n",
       "      <th>Driving Distance - (AVG.)</th>\n",
       "      <th>FedExCup Season Points - (POINTS)</th>\n",
       "      <th>GIR Percentage from Fairway - (%)</th>\n",
       "      <th>GIR Percentage from Other than Fairway - (%)</th>\n",
       "      <th>Good Drive Percentage - (%)</th>\n",
       "      <th>Greens in Regulation Percentage - (%)</th>\n",
       "      <th>Hit Fairway Percentage - (%)</th>\n",
       "      <th>Overall Putting Average - (AVG)</th>\n",
       "      <th>Par 3 Scoring Average - (AVG)</th>\n",
       "      <th>Par 4 Scoring Average - (AVG)</th>\n",
       "      <th>Par 5 Scoring Average - (AVG)</th>\n",
       "      <th>Putting from - &gt; 10' - (% MADE)</th>\n",
       "      <th>Putting from 4-8' - (% MADE)</th>\n",
       "      <th>Putts Per Round - (AVG)</th>\n",
       "      <th>Sand Save Percentage - (%)</th>\n",
       "      <th>Scrambling - (%)</th>\n",
       "    </tr>\n",
       "    <tr>\n",
       "      <th>Player Name</th>\n",
       "      <th></th>\n",
       "      <th></th>\n",
       "      <th></th>\n",
       "      <th></th>\n",
       "      <th></th>\n",
       "      <th></th>\n",
       "      <th></th>\n",
       "      <th></th>\n",
       "      <th></th>\n",
       "      <th></th>\n",
       "      <th></th>\n",
       "      <th></th>\n",
       "      <th></th>\n",
       "      <th></th>\n",
       "      <th></th>\n",
       "      <th></th>\n",
       "      <th></th>\n",
       "      <th></th>\n",
       "      <th></th>\n",
       "      <th></th>\n",
       "    </tr>\n",
       "  </thead>\n",
       "  <tbody>\n",
       "    <tr>\n",
       "      <th>Aaron Baddeley</th>\n",
       "      <td>7.107000</td>\n",
       "      <td>796.645161</td>\n",
       "      <td>166.173333</td>\n",
       "      <td>113.669000</td>\n",
       "      <td>287.096774</td>\n",
       "      <td>357.700000</td>\n",
       "      <td>77.197419</td>\n",
       "      <td>53.452581</td>\n",
       "      <td>81.562667</td>\n",
       "      <td>65.660968</td>\n",
       "      <td>56.355806</td>\n",
       "      <td>1.559548</td>\n",
       "      <td>3.014194</td>\n",
       "      <td>3.964839</td>\n",
       "      <td>4.701290</td>\n",
       "      <td>18.216129</td>\n",
       "      <td>70.513000</td>\n",
       "      <td>28.072258</td>\n",
       "      <td>54.674194</td>\n",
       "      <td>67.201935</td>\n",
       "    </tr>\n",
       "    <tr>\n",
       "      <th>Aaron Wise</th>\n",
       "      <td>11.356667</td>\n",
       "      <td>640.193548</td>\n",
       "      <td>170.206667</td>\n",
       "      <td>116.913000</td>\n",
       "      <td>303.816129</td>\n",
       "      <td>295.600000</td>\n",
       "      <td>80.489032</td>\n",
       "      <td>55.075161</td>\n",
       "      <td>83.105000</td>\n",
       "      <td>69.062258</td>\n",
       "      <td>62.305806</td>\n",
       "      <td>1.614290</td>\n",
       "      <td>2.946129</td>\n",
       "      <td>4.025806</td>\n",
       "      <td>4.569032</td>\n",
       "      <td>14.099677</td>\n",
       "      <td>64.028667</td>\n",
       "      <td>29.058065</td>\n",
       "      <td>45.523226</td>\n",
       "      <td>53.427097</td>\n",
       "    </tr>\n",
       "    <tr>\n",
       "      <th>Abraham Ancer</th>\n",
       "      <td>8.059667</td>\n",
       "      <td>580.612903</td>\n",
       "      <td>167.723333</td>\n",
       "      <td>112.179333</td>\n",
       "      <td>294.883871</td>\n",
       "      <td>497.333333</td>\n",
       "      <td>75.820000</td>\n",
       "      <td>57.717097</td>\n",
       "      <td>87.279333</td>\n",
       "      <td>68.089677</td>\n",
       "      <td>67.810000</td>\n",
       "      <td>1.594806</td>\n",
       "      <td>3.034839</td>\n",
       "      <td>3.961613</td>\n",
       "      <td>4.617742</td>\n",
       "      <td>15.709677</td>\n",
       "      <td>70.173333</td>\n",
       "      <td>28.707097</td>\n",
       "      <td>46.432581</td>\n",
       "      <td>64.098065</td>\n",
       "    </tr>\n",
       "    <tr>\n",
       "      <th>Adam Hadwin</th>\n",
       "      <td>12.133667</td>\n",
       "      <td>453.451613</td>\n",
       "      <td>166.536667</td>\n",
       "      <td>112.175333</td>\n",
       "      <td>291.706452</td>\n",
       "      <td>607.633333</td>\n",
       "      <td>79.042581</td>\n",
       "      <td>53.222903</td>\n",
       "      <td>85.460000</td>\n",
       "      <td>68.628387</td>\n",
       "      <td>65.362903</td>\n",
       "      <td>1.595742</td>\n",
       "      <td>3.061613</td>\n",
       "      <td>4.029032</td>\n",
       "      <td>4.498065</td>\n",
       "      <td>14.203871</td>\n",
       "      <td>67.184000</td>\n",
       "      <td>28.722581</td>\n",
       "      <td>55.612903</td>\n",
       "      <td>58.182258</td>\n",
       "    </tr>\n",
       "    <tr>\n",
       "      <th>Adam Long</th>\n",
       "      <td>8.772333</td>\n",
       "      <td>992.741935</td>\n",
       "      <td>165.803333</td>\n",
       "      <td>110.987667</td>\n",
       "      <td>292.438710</td>\n",
       "      <td>609.900000</td>\n",
       "      <td>75.499355</td>\n",
       "      <td>55.212581</td>\n",
       "      <td>84.760667</td>\n",
       "      <td>66.452258</td>\n",
       "      <td>63.375806</td>\n",
       "      <td>1.629742</td>\n",
       "      <td>3.074194</td>\n",
       "      <td>4.056774</td>\n",
       "      <td>4.671935</td>\n",
       "      <td>11.643871</td>\n",
       "      <td>67.519667</td>\n",
       "      <td>29.336129</td>\n",
       "      <td>45.997419</td>\n",
       "      <td>58.781613</td>\n",
       "    </tr>\n",
       "  </tbody>\n",
       "</table>\n",
       "</div>"
      ],
      "text/plain": [
       "Variable        3-Putt Avoidance > 25' - (%)  All-Around Ranking - (TOTAL)  Average Approach Shot Distance - (AVG)  Club Head Speed - (AVG.)  Driving Distance - (AVG.)  FedExCup Season Points - (POINTS)  GIR Percentage from Fairway - (%)  GIR Percentage from Other than Fairway - (%)  Good Drive Percentage - (%)  Greens in Regulation Percentage - (%)  Hit Fairway Percentage - (%)  Overall Putting Average - (AVG)  Par 3 Scoring Average - (AVG)  Par 4 Scoring Average - (AVG)  Par 5 Scoring Average - (AVG)  Putting from - > 10' - (% MADE)  Putting from 4-8' - (% MADE)  Putts Per Round - (AVG)  Sand Save Percentage - (%)  Scrambling - (%)\n",
       "Player Name                                                                                                                                                                                                                                                                                                                                                                                                                                                                                                                                                                                                                                                      \n",
       "Aaron Baddeley                      7.107000                    796.645161                              166.173333                113.669000                 287.096774                         357.700000                          77.197419                                     53.452581                    81.562667                              65.660968                     56.355806                         1.559548                       3.014194                       3.964839                       4.701290                        18.216129                     70.513000                28.072258                   54.674194         67.201935\n",
       "Aaron Wise                         11.356667                    640.193548                              170.206667                116.913000                 303.816129                         295.600000                          80.489032                                     55.075161                    83.105000                              69.062258                     62.305806                         1.614290                       2.946129                       4.025806                       4.569032                        14.099677                     64.028667                29.058065                   45.523226         53.427097\n",
       "Abraham Ancer                       8.059667                    580.612903                              167.723333                112.179333                 294.883871                         497.333333                          75.820000                                     57.717097                    87.279333                              68.089677                     67.810000                         1.594806                       3.034839                       3.961613                       4.617742                        15.709677                     70.173333                28.707097                   46.432581         64.098065\n",
       "Adam Hadwin                        12.133667                    453.451613                              166.536667                112.175333                 291.706452                         607.633333                          79.042581                                     53.222903                    85.460000                              68.628387                     65.362903                         1.595742                       3.061613                       4.029032                       4.498065                        14.203871                     67.184000                28.722581                   55.612903         58.182258\n",
       "Adam Long                           8.772333                    992.741935                              165.803333                110.987667                 292.438710                         609.900000                          75.499355                                     55.212581                    84.760667                              66.452258                     63.375806                         1.629742                       3.074194                       4.056774                       4.671935                        11.643871                     67.519667                29.336129                   45.997419         58.781613"
      ]
     },
     "execution_count": 44,
     "metadata": {},
     "output_type": "execute_result"
    }
   ],
   "source": [
    "df = pd.pivot_table(data=data, index='Player Name', columns='Variable', values='Value')\n",
    "df.head()"
   ]
  },
  {
   "cell_type": "code",
   "execution_count": 47,
   "metadata": {
    "scrolled": true
   },
   "outputs": [
    {
     "data": {
      "text/plain": [
       "Variable\n",
       "3-Putt Avoidance > 25' - (%)                    45\n",
       "All-Around Ranking - (TOTAL)                    44\n",
       "Average Approach Shot Distance - (AVG)          45\n",
       "Club Head Speed - (AVG.)                        45\n",
       "Driving Distance - (AVG.)                       44\n",
       "FedExCup Season Points - (POINTS)               28\n",
       "GIR Percentage from Fairway - (%)               57\n",
       "GIR Percentage from Other than Fairway - (%)    39\n",
       "Good Drive Percentage - (%)                     39\n",
       "Greens in Regulation Percentage - (%)           39\n",
       "Hit Fairway Percentage - (%)                    45\n",
       "Overall Putting Average - (AVG)                 39\n",
       "Par 3 Scoring Average - (AVG)                   39\n",
       "Par 4 Scoring Average - (AVG)                   39\n",
       "Par 5 Scoring Average - (AVG)                   39\n",
       "Putting from - > 10' - (% MADE)                 45\n",
       "Putting from 4-8' - (% MADE)                    47\n",
       "Putts Per Round - (AVG)                         39\n",
       "Sand Save Percentage - (%)                      39\n",
       "Scrambling - (%)                                39\n",
       "dtype: int64"
      ]
     },
     "execution_count": 47,
     "metadata": {},
     "output_type": "execute_result"
    }
   ],
   "source": [
    "df.isna().sum()"
   ]
  },
  {
   "cell_type": "markdown",
   "metadata": {},
   "source": [
    "Our data is now ready for visualization and analysis."
   ]
  },
  {
   "cell_type": "code",
   "execution_count": 42,
   "metadata": {},
   "outputs": [
    {
     "data": {
      "image/png": "[encoded data removed]",
      "text/plain": [
       "<Figure size 2160x2160 with 2 Axes>"
      ]
     },
     "metadata": {
      "needs_background": "light"
     },
     "output_type": "display_data"
    }
   ],
   "source": [
    "plt.figure(figsize=(30,30))\n",
    "sns.heatmap(df.corr(), annot=True, cmap=\"RdBu\")\n",
    "plt.show()"
   ]
  },
  {
   "cell_type": "markdown",
   "metadata": {},
   "source": [
    "The heatmap above displays the correlation between each numerical variable in the dataset. Deeper blue colors represent stronger positive correlation, while deeper red colors represent stronger negative correlation. Recall that correlation has a maximum value of 1, and a minimum value of -1. A correlation of zero means that the two variables appear to have no correlation. I'll take a look at a couple of the more notable boxes.\n",
    "* Par 3, 4, 5 scoring average and GIR %: These correlations are -0.37, -0.54, and -0.48 for par 3s, 4s, and 5s, respectively. This shows that players who hit a higher percentage of greens in regulation typically score lower, especially for par 4s and 5s.\n",
    "* GIR % and scrambling %: While one might think that players who hit less greens in regulation would be better at scrambling, the correlation value of just 0.049 seems to show that this is not the case. \n",
    "* Par 3, 4, 5 scoring average and FedExCup points: These correlations are -0.23, -0.63, and -0.5 for par 3s, 4s, and 5s, respectively. As we are using FedExCup season points as a measure of success, we can see that par 4s seem to  matter the most, followed by par 5s, then par 3s. It makes sense that par 4 scoring matters most, given that most courses have a greater number of par 4s than par 5s. Interestingly, par 5 scoring seems to be much more important to a player's success than par 3 scoring.\n",
    "* Club head speed and fairway %: There is a -0.44 correlation, which means that typically, as a player's club head speed increases, the percentage of fairways hit decreases.\n",
    "* Club head speed and driving distance: This correlation is 0.81, which, as expected, shows that driving distance increases with increased club head speed. In fact, I expected this correlation to be even higher, given that players on the PGA Tour are all very efficient and consistent with their strike location.\n",
    "* FedExCup points and % of putts made outside 10 feet & 3 putt avoidance outside 25 feet: The correlation for points and putts made outside 10 feet is 0.11, while for points and 3 putt avoidance it is only -0.06. These are both very low. It appears that in the grand scheme of a players performance that year, the percentage of longer putts made as well as 3 putt avoidance on lag putts does not seem to have that significant of an impact."
   ]
  },
  {
   "cell_type": "code",
   "execution_count": 43,
   "metadata": {
    "scrolled": false
   },
   "outputs": [
    {
     "data": {
      "image/png": "[encoded data removed]",
      "text/plain": [
       "<Figure size 1440x1440 with 20 Axes>"
      ]
     },
     "metadata": {
      "needs_background": "light"
     },
     "output_type": "display_data"
    }
   ],
   "source": [
    "df.hist(column=keep_stats, figsize=(20,20))\n",
    "plt.show()"
   ]
  },
  {
   "cell_type": "markdown",
   "metadata": {},
   "source": [
    "From the histograms above, we can see that most of our variables are single peaked and appear to have little skew, except for the number of FedExCup points scored during the season, which is significantly right skewed. "
   ]
  },
  {
   "cell_type": "markdown",
   "metadata": {},
   "source": [
    "## Just for fun: an analysis of distance on the PGA Tour"
   ]
  },
  {
   "cell_type": "code",
   "execution_count": 34,
   "metadata": {
    "scrolled": true
   },
   "outputs": [
    {
     "data": {
      "application/vnd.plotly.v1+json": {
       "config": {
        "plotlyServerURL": "https://plot.ly"
       },
       "data": [
        {
         "alignmentgroup": "True",
         "box": {
          "visible": true
         },
         "hovertemplate": "Driving Distance - (AVG.)=%{y}<extra></extra>",
         "legendgroup": "",
         "marker": {
          "color": "#636efa"
         },
         "name": "",
         "offsetgroup": "",
         "orientation": "v",
         "points": "all",
         "scalegroup": "True",
         "showlegend": false,
         "type": "violin",
         "x0": " ",
         "xaxis": "x",
         "y": [
          287.0967741935484,
          303.816129032258,
          294.88387096774204,
          291.70645161290315,
          292.4387096774193,
          298.88387096774204,
          300.03548387096777,
          287.77096774193546,
          276.73870967741937,
          301.9225806451615,
          302.5870967741936,
          290.65161290322584,
          292.1,
          285.15483870967734,
          281.6387096774194,
          291.13870967741934,
          null,
          288.14516129032256,
          297.27096774193546,
          276.41851851851857,
          284.0612903225807,
          null,
          288.7709677419354,
          289.7548387096775,
          287,
          null,
          280.65806451612906,
          297.8290322580645,
          312.57142857142856,
          302.5870967741936,
          287.7612903225807,
          303.8516129032258,
          276,
          262.4,
          null,
          273.92258064516125,
          284.39032258064515,
          275.1032258064515,
          284.78387096774185,
          293.00322580645155,
          306.3354838709677,
          301.6161290322581,
          311.30645161290334,
          293.1935483870967,
          309.45,
          284.9548387096774,
          316.8290322580646,
          307.93225806451613,
          296,
          293.3516129032259,
          300.3354838709678,
          268.93333333333334,
          270.68,
          291.80000000000007,
          300.52903225806443,
          292.6129032258064,
          null,
          null,
          296.0225806451613,
          297.4483870967741,
          287.54838709677426,
          null,
          283.35517241379307,
          287.8193548387098,
          288.91,
          291.49677419354845,
          null,
          null,
          294.91290322580653,
          285.58064516129025,
          272.10952380952386,
          300.61363636363626,
          297.9233333333333,
          null,
          302.1677419354839,
          292.3129032258065,
          276.85806451612905,
          271,
          null,
          289.41578947368413,
          290.7935483870968,
          null,
          274.03125,
          null,
          293.4580645161291,
          285.12857142857143,
          306.6645161290323,
          294.90322580645153,
          277.6,
          285.1,
          297.4193548387097,
          282.36774193548393,
          287.8451612903226,
          288.56666666666666,
          null,
          284.02903225806443,
          null,
          308.84516129032255,
          305.6,
          null,
          286.3032258064516,
          310.70416666666665,
          291.46451612903235,
          302.4733333333334,
          302.39354838709676,
          299.53225806451604,
          null,
          286.2714285714286,
          306.83225806451617,
          295.5161290322581,
          293.8290322580645,
          292.8516129032258,
          303.1967741935483,
          285.19677419354844,
          289.9516129032258,
          293.57096774193536,
          290.5727272727272,
          290.40000000000003,
          null,
          301.54193548387093,
          287.14193548387095,
          285,
          304.1612903225807,
          305.8806451612903,
          274.5322580645162,
          288.1967741935483,
          295.9096774193549,
          298.3322580645162,
          299.374193548387,
          292.05806451612904,
          289.9709677419354,
          285.28181818181815,
          295.4935483870969,
          null,
          281.9217391304348,
          null,
          null,
          283.5137931034482,
          280.57096774193553,
          263.5,
          305.13548387096785,
          287.5774193548387,
          279.64193548387095,
          null,
          295.64193548387095,
          287.9225806451613,
          288.8774193548387,
          291.5903225806452,
          294.625,
          305.5064516129033,
          301.1967741935483,
          null,
          297.73870967741925,
          299.98709677419356,
          289.4290322580645,
          null,
          286.7,
          287.40000000000003,
          286.7064516129032,
          293.5451612903226,
          291.3,
          290.5193548387097,
          305.3290322580645,
          294.06774193548387,
          288.1129032258065,
          281.87096774193554,
          290.2161290322581,
          284.21290322580643,
          299.1749999999999,
          309.87916666666666,
          295.3935483870967,
          null,
          314.1354838709677,
          294.71935483870976,
          296.3709677419355,
          291.14166666666665,
          295.17419354838705,
          278.0739130434782,
          305.06774193548375,
          291.7310344827587,
          293.9161290322581,
          290.9419354838709,
          304.21578947368425,
          287.9115384615385,
          null,
          305.3,
          298.79677419354846,
          275,
          286.9387096774194,
          null,
          null,
          279.1,
          286.0451612903226,
          282.925,
          290.6483870967742,
          298.58387096774203,
          301,
          308.2451612903227,
          null,
          null,
          274.6,
          284.4419354838709,
          309.02903225806455,
          294.6774193548387,
          299.7483870967742,
          293.2967741935484,
          294.73548387096776,
          289.8387096774194,
          296.46774193548384,
          306.4516129032257,
          289.21034482758625,
          null,
          290.0612903225807,
          303.4741935483871,
          286.64285714285717,
          null,
          293.94166666666666,
          288.3483870967742,
          282.5193548387096,
          285.4129032258063,
          285.6612903225806,
          295.8129032258064,
          312.725806451613,
          290.1354838709678,
          287.0774193548386,
          290.72580645161287,
          275.532258064516,
          288.38064516129026,
          284.5354838709678,
          298.9741935483872,
          306.2548387096775,
          294.52258064516127,
          297.6645161290323,
          302,
          294.0354838709677,
          282.2354838709678,
          286.54838709677426,
          270.1,
          289.83225806451605,
          295.1870967741936,
          null,
          293.00967741935483,
          294.12000000000006,
          297.5903225806452,
          301.86451612903227,
          302.248,
          310.29677419354834,
          298.84,
          292.7258064516129,
          294.5,
          310,
          293.56451612903226,
          null,
          null,
          293.90322580645164,
          289.3,
          283.8,
          293.48214285714306,
          269.32,
          297.37741935483876,
          295.63225806451607,
          296.1806451612902,
          276.1258064516129,
          null,
          297.55,
          299.84705882352944,
          null,
          287.9032258064516,
          null,
          304.69230769230774,
          299.3241379310344,
          null,
          311.04193548387093,
          null,
          307.37096774193554,
          294.7903225806452,
          286.6709677419355,
          288.46111111111105,
          298.8299999999999,
          282.08064516129036,
          null,
          285.59677419354847,
          290.43225806451613,
          267.8,
          284.1387096774194,
          null,
          312.13225806451607,
          302.43548387096774,
          null,
          293.9,
          309.3,
          285.8322580645162,
          null
         ],
         "y0": " ",
         "yaxis": "y"
        }
       ],
       "layout": {
        "legend": {
         "tracegroupgap": 0
        },
        "margin": {
         "t": 60
        },
        "template": {
         "data": {
          "bar": [
           {
            "error_x": {
             "color": "#2a3f5f"
            },
            "error_y": {
             "color": "#2a3f5f"
            },
            "marker": {
             "line": {
              "color": "#E5ECF6",
              "width": 0.5
             }
            },
            "type": "bar"
           }
          ],
          "barpolar": [
           {
            "marker": {
             "line": {
              "color": "#E5ECF6",
              "width": 0.5
             }
            },
            "type": "barpolar"
           }
          ],
          "carpet": [
           {
            "aaxis": {
             "endlinecolor": "#2a3f5f",
             "gridcolor": "white",
             "linecolor": "white",
             "minorgridcolor": "white",
             "startlinecolor": "#2a3f5f"
            },
            "baxis": {
             "endlinecolor": "#2a3f5f",
             "gridcolor": "white",
             "linecolor": "white",
             "minorgridcolor": "white",
             "startlinecolor": "#2a3f5f"
            },
            "type": "carpet"
           }
          ],
          "choropleth": [
           {
            "colorbar": {
             "outlinewidth": 0,
             "ticks": ""
            },
            "type": "choropleth"
           }
          ],
          "contour": [
           {
            "colorbar": {
             "outlinewidth": 0,
             "ticks": ""
            },
            "colorscale": [
             [
              0,
              "#0d0887"
             ],
             [
              0.1111111111111111,
              "#46039f"
             ],
             [
              0.2222222222222222,
              "#7201a8"
             ],
             [
              0.3333333333333333,
              "#9c179e"
             ],
             [
              0.4444444444444444,
              "#bd3786"
             ],
             [
              0.5555555555555556,
              "#d8576b"
             ],
             [
              0.6666666666666666,
              "#ed7953"
             ],
             [
              0.7777777777777778,
              "#fb9f3a"
             ],
             [
              0.8888888888888888,
              "#fdca26"
             ],
             [
              1,
              "#f0f921"
             ]
            ],
            "type": "contour"
           }
          ],
          "contourcarpet": [
           {
            "colorbar": {
             "outlinewidth": 0,
             "ticks": ""
            },
            "type": "contourcarpet"
           }
          ],
          "heatmap": [
           {
            "colorbar": {
             "outlinewidth": 0,
             "ticks": ""
            },
            "colorscale": [
             [
              0,
              "#0d0887"
             ],
             [
              0.1111111111111111,
              "#46039f"
             ],
             [
              0.2222222222222222,
              "#7201a8"
             ],
             [
              0.3333333333333333,
              "#9c179e"
             ],
             [
              0.4444444444444444,
              "#bd3786"
             ],
             [
              0.5555555555555556,
              "#d8576b"
             ],
             [
              0.6666666666666666,
              "#ed7953"
             ],
             [
              0.7777777777777778,
              "#fb9f3a"
             ],
             [
              0.8888888888888888,
              "#fdca26"
             ],
             [
              1,
              "#f0f921"
             ]
            ],
            "type": "heatmap"
           }
          ],
          "heatmapgl": [
           {
            "colorbar": {
             "outlinewidth": 0,
             "ticks": ""
            },
            "colorscale": [
             [
              0,
              "#0d0887"
             ],
             [
              0.1111111111111111,
              "#46039f"
             ],
             [
              0.2222222222222222,
              "#7201a8"
             ],
             [
              0.3333333333333333,
              "#9c179e"
             ],
             [
              0.4444444444444444,
              "#bd3786"
             ],
             [
              0.5555555555555556,
              "#d8576b"
             ],
             [
              0.6666666666666666,
              "#ed7953"
             ],
             [
              0.7777777777777778,
              "#fb9f3a"
             ],
             [
              0.8888888888888888,
              "#fdca26"
             ],
             [
              1,
              "#f0f921"
             ]
            ],
            "type": "heatmapgl"
           }
          ],
          "histogram": [
           {
            "marker": {
             "colorbar": {
              "outlinewidth": 0,
              "ticks": ""
             }
            },
            "type": "histogram"
           }
          ],
          "histogram2d": [
           {
            "colorbar": {
             "outlinewidth": 0,
             "ticks": ""
            },
            "colorscale": [
             [
              0,
              "#0d0887"
             ],
             [
              0.1111111111111111,
              "#46039f"
             ],
             [
              0.2222222222222222,
              "#7201a8"
             ],
             [
              0.3333333333333333,
              "#9c179e"
             ],
             [
              0.4444444444444444,
              "#bd3786"
             ],
             [
              0.5555555555555556,
              "#d8576b"
             ],
             [
              0.6666666666666666,
              "#ed7953"
             ],
             [
              0.7777777777777778,
              "#fb9f3a"
             ],
             [
              0.8888888888888888,
              "#fdca26"
             ],
             [
              1,
              "#f0f921"
             ]
            ],
            "type": "histogram2d"
           }
          ],
          "histogram2dcontour": [
           {
            "colorbar": {
             "outlinewidth": 0,
             "ticks": ""
            },
            "colorscale": [
             [
              0,
              "#0d0887"
             ],
             [
              0.1111111111111111,
              "#46039f"
             ],
             [
              0.2222222222222222,
              "#7201a8"
             ],
             [
              0.3333333333333333,
              "#9c179e"
             ],
             [
              0.4444444444444444,
              "#bd3786"
             ],
             [
              0.5555555555555556,
              "#d8576b"
             ],
             [
              0.6666666666666666,
              "#ed7953"
             ],
             [
              0.7777777777777778,
              "#fb9f3a"
             ],
             [
              0.8888888888888888,
              "#fdca26"
             ],
             [
              1,
              "#f0f921"
             ]
            ],
            "type": "histogram2dcontour"
           }
          ],
          "mesh3d": [
           {
            "colorbar": {
             "outlinewidth": 0,
             "ticks": ""
            },
            "type": "mesh3d"
           }
          ],
          "parcoords": [
           {
            "line": {
             "colorbar": {
              "outlinewidth": 0,
              "ticks": ""
             }
            },
            "type": "parcoords"
           }
          ],
          "pie": [
           {
            "automargin": true,
            "type": "pie"
           }
          ],
          "scatter": [
           {
            "marker": {
             "colorbar": {
              "outlinewidth": 0,
              "ticks": ""
             }
            },
            "type": "scatter"
           }
          ],
          "scatter3d": [
           {
            "line": {
             "colorbar": {
              "outlinewidth": 0,
              "ticks": ""
             }
            },
            "marker": {
             "colorbar": {
              "outlinewidth": 0,
              "ticks": ""
             }
            },
            "type": "scatter3d"
           }
          ],
          "scattercarpet": [
           {
            "marker": {
             "colorbar": {
              "outlinewidth": 0,
              "ticks": ""
             }
            },
            "type": "scattercarpet"
           }
          ],
          "scattergeo": [
           {
            "marker": {
             "colorbar": {
              "outlinewidth": 0,
              "ticks": ""
             }
            },
            "type": "scattergeo"
           }
          ],
          "scattergl": [
           {
            "marker": {
             "colorbar": {
              "outlinewidth": 0,
              "ticks": ""
             }
            },
            "type": "scattergl"
           }
          ],
          "scattermapbox": [
           {
            "marker": {
             "colorbar": {
              "outlinewidth": 0,
              "ticks": ""
             }
            },
            "type": "scattermapbox"
           }
          ],
          "scatterpolar": [
           {
            "marker": {
             "colorbar": {
              "outlinewidth": 0,
              "ticks": ""
             }
            },
            "type": "scatterpolar"
           }
          ],
          "scatterpolargl": [
           {
            "marker": {
             "colorbar": {
              "outlinewidth": 0,
              "ticks": ""
             }
            },
            "type": "scatterpolargl"
           }
          ],
          "scatterternary": [
           {
            "marker": {
             "colorbar": {
              "outlinewidth": 0,
              "ticks": ""
             }
            },
            "type": "scatterternary"
           }
          ],
          "surface": [
           {
            "colorbar": {
             "outlinewidth": 0,
             "ticks": ""
            },
            "colorscale": [
             [
              0,
              "#0d0887"
             ],
             [
              0.1111111111111111,
              "#46039f"
             ],
             [
              0.2222222222222222,
              "#7201a8"
             ],
             [
              0.3333333333333333,
              "#9c179e"
             ],
             [
              0.4444444444444444,
              "#bd3786"
             ],
             [
              0.5555555555555556,
              "#d8576b"
             ],
             [
              0.6666666666666666,
              "#ed7953"
             ],
             [
              0.7777777777777778,
              "#fb9f3a"
             ],
             [
              0.8888888888888888,
              "#fdca26"
             ],
             [
              1,
              "#f0f921"
             ]
            ],
            "type": "surface"
           }
          ],
          "table": [
           {
            "cells": {
             "fill": {
              "color": "#EBF0F8"
             },
             "line": {
              "color": "white"
             }
            },
            "header": {
             "fill": {
              "color": "#C8D4E3"
             },
             "line": {
              "color": "white"
             }
            },
            "type": "table"
           }
          ]
         },
         "layout": {
          "annotationdefaults": {
           "arrowcolor": "#2a3f5f",
           "arrowhead": 0,
           "arrowwidth": 1
          },
          "coloraxis": {
           "colorbar": {
            "outlinewidth": 0,
            "ticks": ""
           }
          },
          "colorscale": {
           "diverging": [
            [
             0,
             "#8e0152"
            ],
            [
             0.1,
             "#c51b7d"
            ],
            [
             0.2,
             "#de77ae"
            ],
            [
             0.3,
             "#f1b6da"
            ],
            [
             0.4,
             "#fde0ef"
            ],
            [
             0.5,
             "#f7f7f7"
            ],
            [
             0.6,
             "#e6f5d0"
            ],
            [
             0.7,
             "#b8e186"
            ],
            [
             0.8,
             "#7fbc41"
            ],
            [
             0.9,
             "#4d9221"
            ],
            [
             1,
             "#276419"
            ]
           ],
           "sequential": [
            [
             0,
             "#0d0887"
            ],
            [
             0.1111111111111111,
             "#46039f"
            ],
            [
             0.2222222222222222,
             "#7201a8"
            ],
            [
             0.3333333333333333,
             "#9c179e"
            ],
            [
             0.4444444444444444,
             "#bd3786"
            ],
            [
             0.5555555555555556,
             "#d8576b"
            ],
            [
             0.6666666666666666,
             "#ed7953"
            ],
            [
             0.7777777777777778,
             "#fb9f3a"
            ],
            [
             0.8888888888888888,
             "#fdca26"
            ],
            [
             1,
             "#f0f921"
            ]
           ],
           "sequentialminus": [
            [
             0,
             "#0d0887"
            ],
            [
             0.1111111111111111,
             "#46039f"
            ],
            [
             0.2222222222222222,
             "#7201a8"
            ],
            [
             0.3333333333333333,
             "#9c179e"
            ],
            [
             0.4444444444444444,
             "#bd3786"
            ],
            [
             0.5555555555555556,
             "#d8576b"
            ],
            [
             0.6666666666666666,
             "#ed7953"
            ],
            [
             0.7777777777777778,
             "#fb9f3a"
            ],
            [
             0.8888888888888888,
             "#fdca26"
            ],
            [
             1,
             "#f0f921"
            ]
           ]
          },
          "colorway": [
           "#636efa",
           "#EF553B",
           "#00cc96",
           "#ab63fa",
           "#FFA15A",
           "#19d3f3",
           "#FF6692",
           "#B6E880",
           "#FF97FF",
           "#FECB52"
          ],
          "font": {
           "color": "#2a3f5f"
          },
          "geo": {
           "bgcolor": "white",
           "lakecolor": "white",
           "landcolor": "#E5ECF6",
           "showlakes": true,
           "showland": true,
           "subunitcolor": "white"
          },
          "hoverlabel": {
           "align": "left"
          },
          "hovermode": "closest",
          "mapbox": {
           "style": "light"
          },
          "paper_bgcolor": "white",
          "plot_bgcolor": "#E5ECF6",
          "polar": {
           "angularaxis": {
            "gridcolor": "white",
            "linecolor": "white",
            "ticks": ""
           },
           "bgcolor": "#E5ECF6",
           "radialaxis": {
            "gridcolor": "white",
            "linecolor": "white",
            "ticks": ""
           }
          },
          "scene": {
           "xaxis": {
            "backgroundcolor": "#E5ECF6",
            "gridcolor": "white",
            "gridwidth": 2,
            "linecolor": "white",
            "showbackground": true,
            "ticks": "",
            "zerolinecolor": "white"
           },
           "yaxis": {
            "backgroundcolor": "#E5ECF6",
            "gridcolor": "white",
            "gridwidth": 2,
            "linecolor": "white",
            "showbackground": true,
            "ticks": "",
            "zerolinecolor": "white"
           },
           "zaxis": {
            "backgroundcolor": "#E5ECF6",
            "gridcolor": "white",
            "gridwidth": 2,
            "linecolor": "white",
            "showbackground": true,
            "ticks": "",
            "zerolinecolor": "white"
           }
          },
          "shapedefaults": {
           "line": {
            "color": "#2a3f5f"
           }
          },
          "ternary": {
           "aaxis": {
            "gridcolor": "white",
            "linecolor": "white",
            "ticks": ""
           },
           "baxis": {
            "gridcolor": "white",
            "linecolor": "white",
            "ticks": ""
           },
           "bgcolor": "#E5ECF6",
           "caxis": {
            "gridcolor": "white",
            "linecolor": "white",
            "ticks": ""
           }
          },
          "title": {
           "x": 0.05
          },
          "xaxis": {
           "automargin": true,
           "gridcolor": "white",
           "linecolor": "white",
           "ticks": "",
           "title": {
            "standoff": 15
           },
           "zerolinecolor": "white",
           "zerolinewidth": 2
          },
          "yaxis": {
           "automargin": true,
           "gridcolor": "white",
           "linecolor": "white",
           "ticks": "",
           "title": {
            "standoff": 15
           },
           "zerolinecolor": "white",
           "zerolinewidth": 2
          }
         }
        },
        "title": {
         "text": "Distribution of Driving Distance",
         "x": 0.5
        },
        "violinmode": "group",
        "xaxis": {
         "anchor": "y",
         "domain": [
          0,
          1
         ]
        },
        "yaxis": {
         "anchor": "x",
         "domain": [
          0,
          1
         ],
         "title": {
          "text": "Driving Distance - (AVG.)"
         }
        }
       }
      },
      "text/html": [
       "<div>                            <div id=\"bbee59d3-d131-400c-84eb-72b451abcf48\" class=\"plotly-graph-div\" style=\"height:525px; width:100%;\"></div>            <script type=\"text/javascript\">                require([\"plotly\"], function(Plotly) {                    window.PLOTLYENV=window.PLOTLYENV || {};                                    if (document.getElementById(\"bbee59d3-d131-400c-84eb-72b451abcf48\")) {                    Plotly.newPlot(                        \"bbee59d3-d131-400c-84eb-72b451abcf48\",                        [{\"alignmentgroup\": \"True\", \"box\": {\"visible\": true}, \"hovertemplate\": \"Driving Distance - (AVG.)=%{y}<extra></extra>\", \"legendgroup\": \"\", \"marker\": {\"color\": \"#636efa\"}, \"name\": \"\", \"offsetgroup\": \"\", \"orientation\": \"v\", \"points\": \"all\", \"scalegroup\": \"True\", \"showlegend\": false, \"type\": \"violin\", \"x0\": \" \", \"xaxis\": \"x\", \"y\": [287.0967741935484, 303.816129032258, 294.88387096774204, 291.70645161290315, 292.4387096774193, 298.88387096774204, 300.03548387096777, 287.77096774193546, 276.73870967741937, 301.9225806451615, 302.5870967741936, 290.65161290322584, 292.1, 285.15483870967734, 281.6387096774194, 291.13870967741934, null, 288.14516129032256, 297.27096774193546, 276.41851851851857, 284.0612903225807, null, 288.7709677419354, 289.7548387096775, 287.0, null, 280.65806451612906, 297.8290322580645, 312.57142857142856, 302.5870967741936, 287.7612903225807, 303.8516129032258, 276.0, 262.4, null, 273.92258064516125, 284.39032258064515, 275.1032258064515, 284.78387096774185, 293.00322580645155, 306.3354838709677, 301.6161290322581, 311.30645161290334, 293.1935483870967, 309.45, 284.9548387096774, 316.8290322580646, 307.93225806451613, 296.0, 293.3516129032259, 300.3354838709678, 268.93333333333334, 270.68, 291.80000000000007, 300.52903225806443, 292.6129032258064, null, null, 296.0225806451613, 297.4483870967741, 287.54838709677426, null, 283.35517241379307, 287.8193548387098, 288.91, 291.49677419354845, null, null, 294.91290322580653, 285.58064516129025, 272.10952380952386, 300.61363636363626, 297.9233333333333, null, 302.1677419354839, 292.3129032258065, 276.85806451612905, 271.0, null, 289.41578947368413, 290.7935483870968, null, 274.03125, null, 293.4580645161291, 285.12857142857143, 306.6645161290323, 294.90322580645153, 277.6, 285.1, 297.4193548387097, 282.36774193548393, 287.8451612903226, 288.56666666666666, null, 284.02903225806443, null, 308.84516129032255, 305.6, null, 286.3032258064516, 310.70416666666665, 291.46451612903235, 302.4733333333334, 302.39354838709676, 299.53225806451604, null, 286.2714285714286, 306.83225806451617, 295.5161290322581, 293.8290322580645, 292.8516129032258, 303.1967741935483, 285.19677419354844, 289.9516129032258, 293.57096774193536, 290.5727272727272, 290.40000000000003, null, 301.54193548387093, 287.14193548387095, 285.0, 304.1612903225807, 305.8806451612903, 274.5322580645162, 288.1967741935483, 295.9096774193549, 298.3322580645162, 299.374193548387, 292.05806451612904, 289.9709677419354, 285.28181818181815, 295.4935483870969, null, 281.9217391304348, null, null, 283.5137931034482, 280.57096774193553, 263.5, 305.13548387096785, 287.5774193548387, 279.64193548387095, null, 295.64193548387095, 287.9225806451613, 288.8774193548387, 291.5903225806452, 294.625, 305.5064516129033, 301.1967741935483, null, 297.73870967741925, 299.98709677419356, 289.4290322580645, null, 286.7, 287.40000000000003, 286.7064516129032, 293.5451612903226, 291.3, 290.5193548387097, 305.3290322580645, 294.06774193548387, 288.1129032258065, 281.87096774193554, 290.2161290322581, 284.21290322580643, 299.1749999999999, 309.87916666666666, 295.3935483870967, null, 314.1354838709677, 294.71935483870976, 296.3709677419355, 291.14166666666665, 295.17419354838705, 278.0739130434782, 305.06774193548375, 291.7310344827587, 293.9161290322581, 290.9419354838709, 304.21578947368425, 287.9115384615385, null, 305.3, 298.79677419354846, 275.0, 286.9387096774194, null, null, 279.1, 286.0451612903226, 282.925, 290.6483870967742, 298.58387096774203, 301.0, 308.2451612903227, null, null, 274.6, 284.4419354838709, 309.02903225806455, 294.6774193548387, 299.7483870967742, 293.2967741935484, 294.73548387096776, 289.8387096774194, 296.46774193548384, 306.4516129032257, 289.21034482758625, null, 290.0612903225807, 303.4741935483871, 286.64285714285717, null, 293.94166666666666, 288.3483870967742, 282.5193548387096, 285.4129032258063, 285.6612903225806, 295.8129032258064, 312.725806451613, 290.1354838709678, 287.0774193548386, 290.72580645161287, 275.532258064516, 288.38064516129026, 284.5354838709678, 298.9741935483872, 306.2548387096775, 294.52258064516127, 297.6645161290323, 302.0, 294.0354838709677, 282.2354838709678, 286.54838709677426, 270.1, 289.83225806451605, 295.1870967741936, null, 293.00967741935483, 294.12000000000006, 297.5903225806452, 301.86451612903227, 302.248, 310.29677419354834, 298.84, 292.7258064516129, 294.5, 310.0, 293.56451612903226, null, null, 293.90322580645164, 289.3, 283.8, 293.48214285714306, 269.32, 297.37741935483876, 295.63225806451607, 296.1806451612902, 276.1258064516129, null, 297.55, 299.84705882352944, null, 287.9032258064516, null, 304.69230769230774, 299.3241379310344, null, 311.04193548387093, null, 307.37096774193554, 294.7903225806452, 286.6709677419355, 288.46111111111105, 298.8299999999999, 282.08064516129036, null, 285.59677419354847, 290.43225806451613, 267.8, 284.1387096774194, null, 312.13225806451607, 302.43548387096774, null, 293.9, 309.3, 285.8322580645162, null], \"y0\": \" \", \"yaxis\": \"y\"}],                        {\"legend\": {\"tracegroupgap\": 0}, \"margin\": {\"t\": 60}, \"template\": {\"data\": {\"bar\": [{\"error_x\": {\"color\": \"#2a3f5f\"}, \"error_y\": {\"color\": \"#2a3f5f\"}, \"marker\": {\"line\": {\"color\": \"#E5ECF6\", \"width\": 0.5}}, \"type\": \"bar\"}], \"barpolar\": [{\"marker\": {\"line\": {\"color\": \"#E5ECF6\", \"width\": 0.5}}, \"type\": \"barpolar\"}], \"carpet\": [{\"aaxis\": {\"endlinecolor\": \"#2a3f5f\", \"gridcolor\": \"white\", \"linecolor\": \"white\", \"minorgridcolor\": \"white\", \"startlinecolor\": \"#2a3f5f\"}, \"baxis\": {\"endlinecolor\": \"#2a3f5f\", \"gridcolor\": \"white\", \"linecolor\": \"white\", \"minorgridcolor\": \"white\", \"startlinecolor\": \"#2a3f5f\"}, \"type\": \"carpet\"}], \"choropleth\": [{\"colorbar\": {\"outlinewidth\": 0, \"ticks\": \"\"}, \"type\": \"choropleth\"}], \"contour\": [{\"colorbar\": {\"outlinewidth\": 0, \"ticks\": \"\"}, \"colorscale\": [[0.0, \"#0d0887\"], [0.1111111111111111, \"#46039f\"], [0.2222222222222222, \"#7201a8\"], [0.3333333333333333, \"#9c179e\"], [0.4444444444444444, \"#bd3786\"], [0.5555555555555556, \"#d8576b\"], [0.6666666666666666, \"#ed7953\"], [0.7777777777777778, \"#fb9f3a\"], [0.8888888888888888, \"#fdca26\"], [1.0, \"#f0f921\"]], \"type\": \"contour\"}], \"contourcarpet\": [{\"colorbar\": {\"outlinewidth\": 0, \"ticks\": \"\"}, \"type\": \"contourcarpet\"}], \"heatmap\": [{\"colorbar\": {\"outlinewidth\": 0, \"ticks\": \"\"}, \"colorscale\": [[0.0, \"#0d0887\"], [0.1111111111111111, \"#46039f\"], [0.2222222222222222, \"#7201a8\"], [0.3333333333333333, \"#9c179e\"], [0.4444444444444444, \"#bd3786\"], [0.5555555555555556, \"#d8576b\"], [0.6666666666666666, \"#ed7953\"], [0.7777777777777778, \"#fb9f3a\"], [0.8888888888888888, \"#fdca26\"], [1.0, \"#f0f921\"]], \"type\": \"heatmap\"}], \"heatmapgl\": [{\"colorbar\": {\"outlinewidth\": 0, \"ticks\": \"\"}, \"colorscale\": [[0.0, \"#0d0887\"], [0.1111111111111111, \"#46039f\"], [0.2222222222222222, \"#7201a8\"], [0.3333333333333333, \"#9c179e\"], [0.4444444444444444, \"#bd3786\"], [0.5555555555555556, \"#d8576b\"], [0.6666666666666666, \"#ed7953\"], [0.7777777777777778, \"#fb9f3a\"], [0.8888888888888888, \"#fdca26\"], [1.0, \"#f0f921\"]], \"type\": \"heatmapgl\"}], \"histogram\": [{\"marker\": {\"colorbar\": {\"outlinewidth\": 0, \"ticks\": \"\"}}, \"type\": \"histogram\"}], \"histogram2d\": [{\"colorbar\": {\"outlinewidth\": 0, \"ticks\": \"\"}, \"colorscale\": [[0.0, \"#0d0887\"], [0.1111111111111111, \"#46039f\"], [0.2222222222222222, \"#7201a8\"], [0.3333333333333333, \"#9c179e\"], [0.4444444444444444, \"#bd3786\"], [0.5555555555555556, \"#d8576b\"], [0.6666666666666666, \"#ed7953\"], [0.7777777777777778, \"#fb9f3a\"], [0.8888888888888888, \"#fdca26\"], [1.0, \"#f0f921\"]], \"type\": \"histogram2d\"}], \"histogram2dcontour\": [{\"colorbar\": {\"outlinewidth\": 0, \"ticks\": \"\"}, \"colorscale\": [[0.0, \"#0d0887\"], [0.1111111111111111, \"#46039f\"], [0.2222222222222222, \"#7201a8\"], [0.3333333333333333, \"#9c179e\"], [0.4444444444444444, \"#bd3786\"], [0.5555555555555556, \"#d8576b\"], [0.6666666666666666, \"#ed7953\"], [0.7777777777777778, \"#fb9f3a\"], [0.8888888888888888, \"#fdca26\"], [1.0, \"#f0f921\"]], \"type\": \"histogram2dcontour\"}], \"mesh3d\": [{\"colorbar\": {\"outlinewidth\": 0, \"ticks\": \"\"}, \"type\": \"mesh3d\"}], \"parcoords\": [{\"line\": {\"colorbar\": {\"outlinewidth\": 0, \"ticks\": \"\"}}, \"type\": \"parcoords\"}], \"pie\": [{\"automargin\": true, \"type\": \"pie\"}], \"scatter\": [{\"marker\": {\"colorbar\": {\"outlinewidth\": 0, \"ticks\": \"\"}}, \"type\": \"scatter\"}], \"scatter3d\": [{\"line\": {\"colorbar\": {\"outlinewidth\": 0, \"ticks\": \"\"}}, \"marker\": {\"colorbar\": {\"outlinewidth\": 0, \"ticks\": \"\"}}, \"type\": \"scatter3d\"}], \"scattercarpet\": [{\"marker\": {\"colorbar\": {\"outlinewidth\": 0, \"ticks\": \"\"}}, \"type\": \"scattercarpet\"}], \"scattergeo\": [{\"marker\": {\"colorbar\": {\"outlinewidth\": 0, \"ticks\": \"\"}}, \"type\": \"scattergeo\"}], \"scattergl\": [{\"marker\": {\"colorbar\": {\"outlinewidth\": 0, \"ticks\": \"\"}}, \"type\": \"scattergl\"}], \"scattermapbox\": [{\"marker\": {\"colorbar\": {\"outlinewidth\": 0, \"ticks\": \"\"}}, \"type\": \"scattermapbox\"}], \"scatterpolar\": [{\"marker\": {\"colorbar\": {\"outlinewidth\": 0, \"ticks\": \"\"}}, \"type\": \"scatterpolar\"}], \"scatterpolargl\": [{\"marker\": {\"colorbar\": {\"outlinewidth\": 0, \"ticks\": \"\"}}, \"type\": \"scatterpolargl\"}], \"scatterternary\": [{\"marker\": {\"colorbar\": {\"outlinewidth\": 0, \"ticks\": \"\"}}, \"type\": \"scatterternary\"}], \"surface\": [{\"colorbar\": {\"outlinewidth\": 0, \"ticks\": \"\"}, \"colorscale\": [[0.0, \"#0d0887\"], [0.1111111111111111, \"#46039f\"], [0.2222222222222222, \"#7201a8\"], [0.3333333333333333, \"#9c179e\"], [0.4444444444444444, \"#bd3786\"], [0.5555555555555556, \"#d8576b\"], [0.6666666666666666, \"#ed7953\"], [0.7777777777777778, \"#fb9f3a\"], [0.8888888888888888, \"#fdca26\"], [1.0, \"#f0f921\"]], \"type\": \"surface\"}], \"table\": [{\"cells\": {\"fill\": {\"color\": \"#EBF0F8\"}, \"line\": {\"color\": \"white\"}}, \"header\": {\"fill\": {\"color\": \"#C8D4E3\"}, \"line\": {\"color\": \"white\"}}, \"type\": \"table\"}]}, \"layout\": {\"annotationdefaults\": {\"arrowcolor\": \"#2a3f5f\", \"arrowhead\": 0, \"arrowwidth\": 1}, \"coloraxis\": {\"colorbar\": {\"outlinewidth\": 0, \"ticks\": \"\"}}, \"colorscale\": {\"diverging\": [[0, \"#8e0152\"], [0.1, \"#c51b7d\"], [0.2, \"#de77ae\"], [0.3, \"#f1b6da\"], [0.4, \"#fde0ef\"], [0.5, \"#f7f7f7\"], [0.6, \"#e6f5d0\"], [0.7, \"#b8e186\"], [0.8, \"#7fbc41\"], [0.9, \"#4d9221\"], [1, \"#276419\"]], \"sequential\": [[0.0, \"#0d0887\"], [0.1111111111111111, \"#46039f\"], [0.2222222222222222, \"#7201a8\"], [0.3333333333333333, \"#9c179e\"], [0.4444444444444444, \"#bd3786\"], [0.5555555555555556, \"#d8576b\"], [0.6666666666666666, \"#ed7953\"], [0.7777777777777778, \"#fb9f3a\"], [0.8888888888888888, \"#fdca26\"], [1.0, \"#f0f921\"]], \"sequentialminus\": [[0.0, \"#0d0887\"], [0.1111111111111111, \"#46039f\"], [0.2222222222222222, \"#7201a8\"], [0.3333333333333333, \"#9c179e\"], [0.4444444444444444, \"#bd3786\"], [0.5555555555555556, \"#d8576b\"], [0.6666666666666666, \"#ed7953\"], [0.7777777777777778, \"#fb9f3a\"], [0.8888888888888888, \"#fdca26\"], [1.0, \"#f0f921\"]]}, \"colorway\": [\"#636efa\", \"#EF553B\", \"#00cc96\", \"#ab63fa\", \"#FFA15A\", \"#19d3f3\", \"#FF6692\", \"#B6E880\", \"#FF97FF\", \"#FECB52\"], \"font\": {\"color\": \"#2a3f5f\"}, \"geo\": {\"bgcolor\": \"white\", \"lakecolor\": \"white\", \"landcolor\": \"#E5ECF6\", \"showlakes\": true, \"showland\": true, \"subunitcolor\": \"white\"}, \"hoverlabel\": {\"align\": \"left\"}, \"hovermode\": \"closest\", \"mapbox\": {\"style\": \"light\"}, \"paper_bgcolor\": \"white\", \"plot_bgcolor\": \"#E5ECF6\", \"polar\": {\"angularaxis\": {\"gridcolor\": \"white\", \"linecolor\": \"white\", \"ticks\": \"\"}, \"bgcolor\": \"#E5ECF6\", \"radialaxis\": {\"gridcolor\": \"white\", \"linecolor\": \"white\", \"ticks\": \"\"}}, \"scene\": {\"xaxis\": {\"backgroundcolor\": \"#E5ECF6\", \"gridcolor\": \"white\", \"gridwidth\": 2, \"linecolor\": \"white\", \"showbackground\": true, \"ticks\": \"\", \"zerolinecolor\": \"white\"}, \"yaxis\": {\"backgroundcolor\": \"#E5ECF6\", \"gridcolor\": \"white\", \"gridwidth\": 2, \"linecolor\": \"white\", \"showbackground\": true, \"ticks\": \"\", \"zerolinecolor\": \"white\"}, \"zaxis\": {\"backgroundcolor\": \"#E5ECF6\", \"gridcolor\": \"white\", \"gridwidth\": 2, \"linecolor\": \"white\", \"showbackground\": true, \"ticks\": \"\", \"zerolinecolor\": \"white\"}}, \"shapedefaults\": {\"line\": {\"color\": \"#2a3f5f\"}}, \"ternary\": {\"aaxis\": {\"gridcolor\": \"white\", \"linecolor\": \"white\", \"ticks\": \"\"}, \"baxis\": {\"gridcolor\": \"white\", \"linecolor\": \"white\", \"ticks\": \"\"}, \"bgcolor\": \"#E5ECF6\", \"caxis\": {\"gridcolor\": \"white\", \"linecolor\": \"white\", \"ticks\": \"\"}}, \"title\": {\"x\": 0.05}, \"xaxis\": {\"automargin\": true, \"gridcolor\": \"white\", \"linecolor\": \"white\", \"ticks\": \"\", \"title\": {\"standoff\": 15}, \"zerolinecolor\": \"white\", \"zerolinewidth\": 2}, \"yaxis\": {\"automargin\": true, \"gridcolor\": \"white\", \"linecolor\": \"white\", \"ticks\": \"\", \"title\": {\"standoff\": 15}, \"zerolinecolor\": \"white\", \"zerolinewidth\": 2}}}, \"title\": {\"text\": \"Distribution of Driving Distance\", \"x\": 0.5}, \"violinmode\": \"group\", \"xaxis\": {\"anchor\": \"y\", \"domain\": [0.0, 1.0]}, \"yaxis\": {\"anchor\": \"x\", \"domain\": [0.0, 1.0], \"title\": {\"text\": \"Driving Distance - (AVG.)\"}}},                        {\"responsive\": true}                    ).then(function(){\n",
       "                            \n",
       "var gd = document.getElementById('bbee59d3-d131-400c-84eb-72b451abcf48');\n",
       "var x = new MutationObserver(function (mutations, observer) {{\n",
       "        var display = window.getComputedStyle(gd).display;\n",
       "        if (!display || display === 'none') {{\n",
       "            console.log([gd, 'removed!']);\n",
       "            Plotly.purge(gd);\n",
       "            observer.disconnect();\n",
       "        }}\n",
       "}});\n",
       "\n",
       "// Listen for the removal of the full notebook cells\n",
       "var notebookContainer = gd.closest('#notebook-container');\n",
       "if (notebookContainer) {{\n",
       "    x.observe(notebookContainer, {childList: true});\n",
       "}}\n",
       "\n",
       "// Listen for the clearing of the current output cell\n",
       "var outputEl = gd.closest('.output');\n",
       "if (outputEl) {{\n",
       "    x.observe(outputEl, {childList: true});\n",
       "}}\n",
       "\n",
       "                        })                };                });            </script>        </div>"
      ]
     },
     "metadata": {},
     "output_type": "display_data"
    }
   ],
   "source": [
    "fig = px.violin(df, y='Driving Distance - (AVG.)', box=True, points='all')\n",
    "fig.update_layout(title_text='Distribution of Driving Distance', \n",
    "                  title_x=0.5)\n",
    "fig.show()"
   ]
  },
  {
   "cell_type": "markdown",
   "metadata": {},
   "source": [
    "Our violin plot shows the distribution of average driving distance on Tour. This result is rather expected, and we can see that most players hover around the average of 290 yards."
   ]
  },
  {
   "cell_type": "code",
   "execution_count": 33,
   "metadata": {
    "scrolled": false
   },
   "outputs": [
    {
     "data": {
      "application/vnd.plotly.v1+json": {
       "config": {
        "plotlyServerURL": "https://plot.ly"
       },
       "data": [
        {
         "hovertemplate": "Driving Distance - (AVG.)=%{x}<br>Putts Per Round - (AVG)=%{y}<extra></extra>",
         "legendgroup": "",
         "marker": {
          "color": "#636efa",
          "symbol": "circle"
         },
         "mode": "markers",
         "name": "",
         "orientation": "v",
         "showlegend": false,
         "type": "scatter",
         "x": [
          287.0967741935484,
          303.816129032258,
          294.88387096774204,
          291.70645161290315,
          292.4387096774193,
          298.88387096774204,
          300.03548387096777,
          287.77096774193546,
          276.73870967741937,
          301.9225806451615,
          302.5870967741936,
          290.65161290322584,
          292.1,
          285.15483870967734,
          281.6387096774194,
          291.13870967741934,
          null,
          288.14516129032256,
          297.27096774193546,
          276.41851851851857,
          284.0612903225807,
          null,
          288.7709677419354,
          289.7548387096775,
          287,
          null,
          280.65806451612906,
          297.8290322580645,
          312.57142857142856,
          302.5870967741936,
          287.7612903225807,
          303.8516129032258,
          276,
          262.4,
          null,
          273.92258064516125,
          284.39032258064515,
          275.1032258064515,
          284.78387096774185,
          293.00322580645155,
          306.3354838709677,
          301.6161290322581,
          311.30645161290334,
          293.1935483870967,
          309.45,
          284.9548387096774,
          316.8290322580646,
          307.93225806451613,
          296,
          293.3516129032259,
          300.3354838709678,
          268.93333333333334,
          270.68,
          291.80000000000007,
          300.52903225806443,
          292.6129032258064,
          null,
          null,
          296.0225806451613,
          297.4483870967741,
          287.54838709677426,
          null,
          283.35517241379307,
          287.8193548387098,
          288.91,
          291.49677419354845,
          null,
          null,
          294.91290322580653,
          285.58064516129025,
          272.10952380952386,
          300.61363636363626,
          297.9233333333333,
          null,
          302.1677419354839,
          292.3129032258065,
          276.85806451612905,
          271,
          null,
          289.41578947368413,
          290.7935483870968,
          null,
          274.03125,
          null,
          293.4580645161291,
          285.12857142857143,
          306.6645161290323,
          294.90322580645153,
          277.6,
          285.1,
          297.4193548387097,
          282.36774193548393,
          287.8451612903226,
          288.56666666666666,
          null,
          284.02903225806443,
          null,
          308.84516129032255,
          305.6,
          null,
          286.3032258064516,
          310.70416666666665,
          291.46451612903235,
          302.4733333333334,
          302.39354838709676,
          299.53225806451604,
          null,
          286.2714285714286,
          306.83225806451617,
          295.5161290322581,
          293.8290322580645,
          292.8516129032258,
          303.1967741935483,
          285.19677419354844,
          289.9516129032258,
          293.57096774193536,
          290.5727272727272,
          290.40000000000003,
          null,
          301.54193548387093,
          287.14193548387095,
          285,
          304.1612903225807,
          305.8806451612903,
          274.5322580645162,
          288.1967741935483,
          295.9096774193549,
          298.3322580645162,
          299.374193548387,
          292.05806451612904,
          289.9709677419354,
          285.28181818181815,
          295.4935483870969,
          null,
          281.9217391304348,
          null,
          null,
          283.5137931034482,
          280.57096774193553,
          263.5,
          305.13548387096785,
          287.5774193548387,
          279.64193548387095,
          null,
          295.64193548387095,
          287.9225806451613,
          288.8774193548387,
          291.5903225806452,
          294.625,
          305.5064516129033,
          301.1967741935483,
          null,
          297.73870967741925,
          299.98709677419356,
          289.4290322580645,
          null,
          286.7,
          287.40000000000003,
          286.7064516129032,
          293.5451612903226,
          291.3,
          290.5193548387097,
          305.3290322580645,
          294.06774193548387,
          288.1129032258065,
          281.87096774193554,
          290.2161290322581,
          284.21290322580643,
          299.1749999999999,
          309.87916666666666,
          295.3935483870967,
          null,
          314.1354838709677,
          294.71935483870976,
          296.3709677419355,
          291.14166666666665,
          295.17419354838705,
          278.0739130434782,
          305.06774193548375,
          291.7310344827587,
          293.9161290322581,
          290.9419354838709,
          304.21578947368425,
          287.9115384615385,
          null,
          305.3,
          298.79677419354846,
          275,
          286.9387096774194,
          null,
          null,
          279.1,
          286.0451612903226,
          282.925,
          290.6483870967742,
          298.58387096774203,
          301,
          308.2451612903227,
          null,
          null,
          274.6,
          284.4419354838709,
          309.02903225806455,
          294.6774193548387,
          299.7483870967742,
          293.2967741935484,
          294.73548387096776,
          289.8387096774194,
          296.46774193548384,
          306.4516129032257,
          289.21034482758625,
          null,
          290.0612903225807,
          303.4741935483871,
          286.64285714285717,
          null,
          293.94166666666666,
          288.3483870967742,
          282.5193548387096,
          285.4129032258063,
          285.6612903225806,
          295.8129032258064,
          312.725806451613,
          290.1354838709678,
          287.0774193548386,
          290.72580645161287,
          275.532258064516,
          288.38064516129026,
          284.5354838709678,
          298.9741935483872,
          306.2548387096775,
          294.52258064516127,
          297.6645161290323,
          302,
          294.0354838709677,
          282.2354838709678,
          286.54838709677426,
          270.1,
          289.83225806451605,
          295.1870967741936,
          null,
          293.00967741935483,
          294.12000000000006,
          297.5903225806452,
          301.86451612903227,
          302.248,
          310.29677419354834,
          298.84,
          292.7258064516129,
          294.5,
          310,
          293.56451612903226,
          null,
          null,
          293.90322580645164,
          289.3,
          283.8,
          293.48214285714306,
          269.32,
          297.37741935483876,
          295.63225806451607,
          296.1806451612902,
          276.1258064516129,
          null,
          297.55,
          299.84705882352944,
          null,
          287.9032258064516,
          null,
          304.69230769230774,
          299.3241379310344,
          null,
          311.04193548387093,
          null,
          307.37096774193554,
          294.7903225806452,
          286.6709677419355,
          288.46111111111105,
          298.8299999999999,
          282.08064516129036,
          null,
          285.59677419354847,
          290.43225806451613,
          267.8,
          284.1387096774194,
          null,
          312.13225806451607,
          302.43548387096774,
          null,
          293.9,
          309.3,
          285.8322580645162,
          null
         ],
         "xaxis": "x",
         "y": [
          28.072258064516127,
          29.05806451612904,
          28.70709677419355,
          28.7225806451613,
          29.336129032258057,
          29.01451612903226,
          29.152258064516143,
          29.24677419354839,
          28.8225806451613,
          29.92709677419356,
          29.87096774193549,
          29.372258064516128,
          28.5,
          29.35354838709677,
          28.62032258064517,
          28.513870967741934,
          null,
          29.056129032258077,
          28.912580645161288,
          28.76037037037036,
          29.11354838709677,
          null,
          28.815806451612904,
          29.386451612903226,
          28.97,
          null,
          28.743225806451626,
          30.17677419354838,
          29.54,
          29.098064516129032,
          28.37903225806452,
          30.36806451612903,
          28.45,
          29.67,
          null,
          28.263225806451608,
          28.723870967741938,
          28.45516129032258,
          29.73580645161291,
          29.52258064516129,
          29.198709677419362,
          28.568387096774195,
          30.048064516129028,
          28.38741935483871,
          29.26774193548387,
          28.848064516129043,
          29.73129032258065,
          29.165806451612895,
          28.385806451612915,
          28.86580645161291,
          29.425161290322578,
          29.44333333333333,
          29.080000000000005,
          28.846818181818175,
          29.628709677419355,
          29.427096774193554,
          null,
          null,
          29.054193548387097,
          29.244838709677417,
          28.90354838709678,
          null,
          29.28586206896552,
          28.599032258064515,
          29.85433333333333,
          28.953225806451613,
          null,
          null,
          29.997741935483873,
          28.44451612903226,
          29.455238095238094,
          29.170454545454536,
          28.522333333333332,
          null,
          29.058709677419362,
          29.663225806451607,
          28.804838709677416,
          29.82,
          null,
          29.353684210526325,
          28.476774193548394,
          null,
          28.939374999999995,
          null,
          28.09967741935484,
          29.58571428571429,
          28.658064516129038,
          29.142580645161303,
          29.5,
          28.3,
          29.90290322580645,
          29.36387096774194,
          29.29354838709677,
          28.461666666666666,
          null,
          28.928064516129048,
          29.75,
          29.554838709677433,
          30.14,
          null,
          28.816774193548394,
          29.40458333333334,
          29.19161290322581,
          29.055333333333333,
          28.96322580645162,
          28.744516129032263,
          null,
          29.363333333333337,
          29.266451612903225,
          29.020967741935483,
          29.477741935483884,
          29.344838709677422,
          29.530322580645155,
          29.97645161290322,
          29.49096774193548,
          28.56645161290322,
          30.115000000000006,
          29,
          null,
          28.54709677419354,
          30.420322580645163,
          28.755,
          29.398064516129033,
          29.282903225806443,
          29.32161290322581,
          29.610967741935482,
          29.624193548387094,
          28.967419354838718,
          29.48129032258064,
          29.112903225806445,
          29.029999999999998,
          28.70909090909091,
          29.99096774193548,
          null,
          29.288260869565207,
          null,
          null,
          30.21724137931035,
          29.54516129032258,
          30.13,
          28.716129032258074,
          28.681290322580637,
          28.362903225806463,
          null,
          28.03516129032258,
          28.37903225806452,
          29.35258064516129,
          28.55645161290322,
          28.471818181818183,
          27.259677419354837,
          28.927096774193537,
          null,
          29.44935483870967,
          29.539677419354835,
          28.665806451612895,
          null,
          31.78,
          30.329999999999995,
          28.47903225806451,
          29.277096774193545,
          30,
          29.52193548387097,
          29.33096774193547,
          27.967741935483858,
          29.400967741935478,
          29.440322580645155,
          29.660967741935476,
          29.49290322580644,
          29.2067741935484,
          30.42166666666667,
          29.17935483870968,
          null,
          29.29290322580646,
          28.806129032258074,
          28.889677419354847,
          29.02166666666666,
          29.26419354838709,
          27.72869565217392,
          28.865161290322586,
          28.652068965517238,
          28.699354838709677,
          29.288709677419345,
          28.599473684210526,
          28.823461538461537,
          null,
          29.83,
          29.119032258064514,
          29.504193548387093,
          28.446774193548382,
          null,
          30.63,
          28.08,
          28.759999999999994,
          28.998749999999998,
          28.793225806451606,
          29.302258064516135,
          26.83,
          28.422258064516132,
          null,
          null,
          28.36,
          28.860000000000007,
          28.4658064516129,
          28.634516129032257,
          28.833225806451612,
          28.514516129032256,
          29.315483870967743,
          27.95516129032258,
          29.081612903225803,
          28.661290322580648,
          28.79612903225807,
          null,
          28.550322580645165,
          28.637741935483874,
          29.19571428571428,
          null,
          29.740833333333327,
          29.006774193548395,
          29.09419354838709,
          29.00322580645161,
          29.737741935483875,
          28.65548387096775,
          28.928709677419352,
          28.66322580645161,
          29.468709677419355,
          29.180967741935483,
          29.097419354838713,
          28.582580645161293,
          29.111935483870962,
          29.01612903225806,
          28.39354838709678,
          28.591612903225805,
          28.806451612903235,
          28.364999999999995,
          29.21774193548387,
          29.55483870967741,
          29.02548387096774,
          28.305161290322577,
          28.789032258064516,
          29.14935483870968,
          28.88,
          29.00161290322581,
          29.024666666666672,
          28.918387096774186,
          29.688387096774186,
          28.917999999999996,
          29.276129032258066,
          28.936,
          29.251935483870962,
          30,
          28.635555555555552,
          27.83645161290323,
          28.5,
          null,
          28.606129032258057,
          28.170000000000005,
          29.63,
          29.484285714285722,
          28.968,
          29.018709677419352,
          28.912903225806442,
          29.108387096774187,
          29.579354838709676,
          27.13,
          29.299999999999997,
          29.526470588235295,
          null,
          29.142580645161285,
          null,
          29.75,
          29.148965517241383,
          null,
          28.570000000000004,
          null,
          29.410967741935483,
          28.743870967741938,
          29.609999999999996,
          29.37888888888889,
          28.87483870967742,
          28.210967741935487,
          null,
          28.496451612903222,
          29.021935483870976,
          29.89,
          29.262903225806454,
          null,
          28.038387096774198,
          28.642258064516124,
          null,
          30,
          28,
          28.487419354838707,
          null
         ],
         "yaxis": "y"
        },
        {
         "hovertemplate": "<b>OLS trendline</b><br>Putts Per Round - (AVG) = -0.000280652 * Driving Distance - (AVG.) + 29.1494<br>R<sup>2</sup>=0.000023<br><br>Driving Distance - (AVG.)=%{x}<br>Putts Per Round - (AVG)=%{y} <b>(trend)</b><extra></extra>",
         "legendgroup": "",
         "marker": {
          "color": "#636efa",
          "symbol": "circle"
         },
         "mode": "lines",
         "name": "",
         "showlegend": false,
         "type": "scatter",
         "x": [
          262.4,
          263.5,
          267.8,
          268.93333333333334,
          269.32,
          270.1,
          270.68,
          271,
          272.10952380952386,
          273.92258064516125,
          274.03125,
          274.5322580645162,
          274.6,
          275,
          275.1032258064515,
          275.532258064516,
          276,
          276.1258064516129,
          276.41851851851857,
          276.73870967741937,
          276.85806451612905,
          277.6,
          278.0739130434782,
          279.1,
          279.64193548387095,
          280.57096774193553,
          280.65806451612906,
          281.6387096774194,
          281.87096774193554,
          281.9217391304348,
          282.08064516129036,
          282.2354838709678,
          282.36774193548393,
          282.5193548387096,
          282.925,
          283.35517241379307,
          283.5137931034482,
          283.8,
          284.02903225806443,
          284.0612903225807,
          284.1387096774194,
          284.21290322580643,
          284.39032258064515,
          284.4419354838709,
          284.5354838709678,
          284.78387096774185,
          284.9548387096774,
          285,
          285.1,
          285.12857142857143,
          285.15483870967734,
          285.19677419354844,
          285.28181818181815,
          285.4129032258063,
          285.58064516129025,
          285.59677419354847,
          285.6612903225806,
          285.8322580645162,
          286.0451612903226,
          286.2714285714286,
          286.3032258064516,
          286.54838709677426,
          286.64285714285717,
          286.6709677419355,
          286.7,
          286.7064516129032,
          286.9387096774194,
          287,
          287.0774193548386,
          287.0967741935484,
          287.14193548387095,
          287.40000000000003,
          287.54838709677426,
          287.5774193548387,
          287.7612903225807,
          287.77096774193546,
          287.8193548387098,
          287.8451612903226,
          287.9032258064516,
          287.9115384615385,
          287.9225806451613,
          288.1129032258065,
          288.14516129032256,
          288.1967741935483,
          288.3483870967742,
          288.38064516129026,
          288.46111111111105,
          288.56666666666666,
          288.7709677419354,
          288.8774193548387,
          288.91,
          289.21034482758625,
          289.3,
          289.41578947368413,
          289.4290322580645,
          289.7548387096775,
          289.83225806451605,
          289.8387096774194,
          289.9516129032258,
          289.9709677419354,
          290.0612903225807,
          290.1354838709678,
          290.2161290322581,
          290.40000000000003,
          290.43225806451613,
          290.5193548387097,
          290.5727272727272,
          290.6483870967742,
          290.65161290322584,
          290.72580645161287,
          290.7935483870968,
          290.9419354838709,
          291.13870967741934,
          291.14166666666665,
          291.3,
          291.46451612903235,
          291.49677419354845,
          291.5903225806452,
          291.70645161290315,
          291.7310344827587,
          291.80000000000007,
          292.05806451612904,
          292.1,
          292.3129032258065,
          292.4387096774193,
          292.6129032258064,
          292.7258064516129,
          292.8516129032258,
          293.00322580645155,
          293.00967741935483,
          293.1935483870967,
          293.2967741935484,
          293.3516129032259,
          293.4580645161291,
          293.48214285714306,
          293.5451612903226,
          293.56451612903226,
          293.57096774193536,
          293.8290322580645,
          293.9,
          293.90322580645164,
          293.9161290322581,
          293.94166666666666,
          294.0354838709677,
          294.06774193548387,
          294.12000000000006,
          294.5,
          294.52258064516127,
          294.625,
          294.6774193548387,
          294.71935483870976,
          294.73548387096776,
          294.7903225806452,
          294.88387096774204,
          294.90322580645153,
          294.91290322580653,
          295.17419354838705,
          295.1870967741936,
          295.3935483870967,
          295.4935483870969,
          295.5161290322581,
          295.63225806451607,
          295.64193548387095,
          295.8129032258064,
          295.9096774193549,
          296,
          296.0225806451613,
          296.1806451612902,
          296.3709677419355,
          296.46774193548384,
          297.27096774193546,
          297.37741935483876,
          297.4193548387097,
          297.4483870967741,
          297.55,
          297.5903225806452,
          297.6645161290323,
          297.73870967741925,
          297.8290322580645,
          297.9233333333333,
          298.3322580645162,
          298.58387096774203,
          298.79677419354846,
          298.8299999999999,
          298.84,
          298.88387096774204,
          298.9741935483872,
          299.1749999999999,
          299.3241379310344,
          299.374193548387,
          299.53225806451604,
          299.7483870967742,
          299.84705882352944,
          299.98709677419356,
          300.03548387096777,
          300.3354838709678,
          300.52903225806443,
          300.61363636363626,
          301,
          301.1967741935483,
          301.54193548387093,
          301.6161290322581,
          301.86451612903227,
          301.9225806451615,
          302,
          302.1677419354839,
          302.248,
          302.39354838709676,
          302.43548387096774,
          302.4733333333334,
          302.5870967741936,
          302.5870967741936,
          303.1967741935483,
          303.4741935483871,
          303.816129032258,
          303.8516129032258,
          304.1612903225807,
          304.21578947368425,
          304.69230769230774,
          305.06774193548375,
          305.13548387096785,
          305.3,
          305.3290322580645,
          305.5064516129033,
          305.6,
          305.8806451612903,
          306.2548387096775,
          306.3354838709677,
          306.4516129032257,
          306.6645161290323,
          306.83225806451617,
          307.37096774193554,
          307.93225806451613,
          308.2451612903227,
          308.84516129032255,
          309.02903225806455,
          309.3,
          309.45,
          309.87916666666666,
          310,
          310.29677419354834,
          310.70416666666665,
          311.04193548387093,
          311.30645161290334,
          312.13225806451607,
          312.57142857142856,
          312.725806451613,
          314.1354838709677,
          316.8290322580646
         ],
         "xaxis": "x",
         "y": [
          29.075763338258557,
          29.07545462132989,
          29.074247818790546,
          29.07392974680343,
          29.073821228125475,
          29.07360231975787,
          29.07343954174094,
          29.07334973317987,
          29.07303834337736,
          29.07252950579754,
          29.072499007552572,
          29.07235839876083,
          29.072339386867863,
          29.072227126166528,
          29.072198155662957,
          29.072077747007494,
          29.071946474413192,
          29.071911166611965,
          29.071829016457166,
          29.07173915424702,
          29.071705657102264,
          29.071497431607856,
          29.071364427081274,
          29.071076453977852,
          29.07092435883411,
          29.070663624301975,
          29.07063918043959,
          29.070363960655673,
          29.07029877702264,
          29.07028452794344,
          29.070239930687265,
          29.070196474931908,
          29.07015935647421,
          29.07011680604709,
          29.07000296102134,
          29.069882232379175,
          29.069837715204507,
          29.069757390737173,
          29.069693112432375,
          29.06968405915001,
          29.069662331272333,
          29.069641508722892,
          29.069591715669883,
          29.069577230418098,
          29.069550975899237,
          29.069481265625022,
          29.06943328322848,
          29.06942060863317,
          29.069392543457838,
          29.069384524836313,
          29.069377152877816,
          29.06936538361074,
          29.06934151586632,
          29.06930472661889,
          29.06925764955059,
          29.069253122909405,
          29.069235016344674,
          29.069187033948136,
          29.069127282284523,
          29.06906377997536,
          29.0690548560256,
          29.06898605107962,
          29.068959537895548,
          29.068951648606628,
          29.068943500652498,
          29.068941689996027,
          29.068876506362994,
          29.068859305126498,
          29.06883757724882,
          29.0688321452794,
          29.06881947068409,
          29.068747044425166,
          29.068705399326284,
          29.068697251372154,
          29.06864564766267,
          29.06864293167796,
          29.06862935175441,
          29.06862210912852,
          29.06860581322026,
          29.068603480259036,
          29.068600381250842,
          29.068546966884885,
          29.06853791360252,
          29.068523428350733,
          29.068480877923616,
          29.06847182464125,
          29.068449241731347,
          29.068419617379607,
          29.068362279924624,
          29.068332404092818,
          29.068323260277626,
          29.068238967975162,
          29.068213806093826,
          29.06818130957502,
          29.068177592964364,
          29.06808615481247,
          29.068064426934793,
          29.068062616278322,
          29.06803092979004,
          29.06802549782062,
          29.06800014863,
          29.067979326080557,
          29.067956692874642,
          29.06790508916516,
          29.067896035882793,
          29.067871592020406,
          29.067856612953218,
          29.06783537889094,
          29.067834473562705,
          29.067813651013264,
          29.067794639120297,
          29.067752994021415,
          29.067697768998983,
          29.067696939114768,
          29.067652502587155,
          29.06760633084709,
          29.067597277564726,
          29.067571023045865,
          29.067538431229348,
          29.06753153200382,
          29.067512176710487,
          29.067439750451562,
          29.067427981184487,
          29.067368229520874,
          29.067332921719647,
          29.067284033994873,
          29.067252347506592,
          29.067217039705366,
          29.067174489278248,
          29.067172678621777,
          29.06712107491229,
          29.067092104408722,
          29.067076713828698,
          29.06704683799689,
          29.06704008036827,
          29.067022394134504,
          29.067016962165084,
          29.067015151508613,
          29.06694272524969,
          29.066922808028483,
          29.066921902700248,
          29.0669182813873,
          29.06691111420543,
          29.066884784242546,
          29.06687573096018,
          29.066861064642747,
          29.06675441697648,
          29.066748079678824,
          29.066719335507315,
          29.06670462392347,
          29.066692854656395,
          29.06668832801521,
          29.06667293743519,
          29.06664668291633,
          29.066641250946912,
          29.066638534962202,
          29.06656520337504,
          29.066561582062093,
          29.066503641054954,
          29.06647557587962,
          29.066469238581963,
          29.066436646765446,
          29.066433930780736,
          29.066385948384198,
          29.0663587885371,
          29.06633343934648,
          29.06632710204882,
          29.06628274096523,
          29.066229326599274,
          29.066202166752177,
          29.06597674002127,
          29.065946864189463,
          29.065935094922388,
          29.065926946968258,
          29.065898429128808,
          29.06588711252585,
          29.06586628997641,
          29.065845467426968,
          29.065820118236346,
          29.06579365247423,
          29.06567888703144,
          29.06560827142899,
          29.065548519765375,
          29.065539194884536,
          29.065536388367004,
          29.065524075902985,
          29.065498726712363,
          29.065442370029636,
          29.065400514207802,
          29.065386466011027,
          29.06534210492744,
          29.065281447935586,
          29.065253755542468,
          29.06521445364608,
          29.06520087372253,
          29.06511667819653,
          29.065062358502338,
          29.06503861421177,
          29.0649301805798,
          29.064874955557368,
          29.064778085436057,
          29.064757262886616,
          29.064687552612398,
          29.06467125670414,
          29.064649528826465,
          29.064602451758162,
          29.064579927191637,
          29.064539078781603,
          29.064527309514528,
          29.06451668699655,
          29.064484759087406,
          29.064484759087406,
          29.064313652050696,
          29.064235793822352,
          29.064139829029276,
          29.064129870418675,
          29.064042958907965,
          29.06402766362565,
          29.063893927952098,
          29.063788561673487,
          29.06376954978052,
          29.063723378040457,
          29.063715230086327,
          29.063665437033315,
          29.063639182514454,
          29.063560418957874,
          29.063455400882432,
          29.063432767676517,
          29.06340017586,
          29.063340424196387,
          29.063293347128088,
          29.06314215731258,
          29.062984630199416,
          29.06289681336047,
          29.062728422308467,
          29.062676818598984,
          29.062600771027114,
          29.062558673264114,
          29.062438226886638,
          29.062404314799778,
          29.062321024602014,
          29.062206689190138,
          29.062111893779367,
          29.062037656863968,
          29.061805892835405,
          29.061682638862628,
          29.06163931243988,
          29.061243684000498,
          29.060487734922965
         ],
         "yaxis": "y"
        }
       ],
       "layout": {
        "legend": {
         "tracegroupgap": 0
        },
        "margin": {
         "t": 60
        },
        "template": {
         "data": {
          "bar": [
           {
            "error_x": {
             "color": "#2a3f5f"
            },
            "error_y": {
             "color": "#2a3f5f"
            },
            "marker": {
             "line": {
              "color": "#E5ECF6",
              "width": 0.5
             }
            },
            "type": "bar"
           }
          ],
          "barpolar": [
           {
            "marker": {
             "line": {
              "color": "#E5ECF6",
              "width": 0.5
             }
            },
            "type": "barpolar"
           }
          ],
          "carpet": [
           {
            "aaxis": {
             "endlinecolor": "#2a3f5f",
             "gridcolor": "white",
             "linecolor": "white",
             "minorgridcolor": "white",
             "startlinecolor": "#2a3f5f"
            },
            "baxis": {
             "endlinecolor": "#2a3f5f",
             "gridcolor": "white",
             "linecolor": "white",
             "minorgridcolor": "white",
             "startlinecolor": "#2a3f5f"
            },
            "type": "carpet"
           }
          ],
          "choropleth": [
           {
            "colorbar": {
             "outlinewidth": 0,
             "ticks": ""
            },
            "type": "choropleth"
           }
          ],
          "contour": [
           {
            "colorbar": {
             "outlinewidth": 0,
             "ticks": ""
            },
            "colorscale": [
             [
              0,
              "#0d0887"
             ],
             [
              0.1111111111111111,
              "#46039f"
             ],
             [
              0.2222222222222222,
              "#7201a8"
             ],
             [
              0.3333333333333333,
              "#9c179e"
             ],
             [
              0.4444444444444444,
              "#bd3786"
             ],
             [
              0.5555555555555556,
              "#d8576b"
             ],
             [
              0.6666666666666666,
              "#ed7953"
             ],
             [
              0.7777777777777778,
              "#fb9f3a"
             ],
             [
              0.8888888888888888,
              "#fdca26"
             ],
             [
              1,
              "#f0f921"
             ]
            ],
            "type": "contour"
           }
          ],
          "contourcarpet": [
           {
            "colorbar": {
             "outlinewidth": 0,
             "ticks": ""
            },
            "type": "contourcarpet"
           }
          ],
          "heatmap": [
           {
            "colorbar": {
             "outlinewidth": 0,
             "ticks": ""
            },
            "colorscale": [
             [
              0,
              "#0d0887"
             ],
             [
              0.1111111111111111,
              "#46039f"
             ],
             [
              0.2222222222222222,
              "#7201a8"
             ],
             [
              0.3333333333333333,
              "#9c179e"
             ],
             [
              0.4444444444444444,
              "#bd3786"
             ],
             [
              0.5555555555555556,
              "#d8576b"
             ],
             [
              0.6666666666666666,
              "#ed7953"
             ],
             [
              0.7777777777777778,
              "#fb9f3a"
             ],
             [
              0.8888888888888888,
              "#fdca26"
             ],
             [
              1,
              "#f0f921"
             ]
            ],
            "type": "heatmap"
           }
          ],
          "heatmapgl": [
           {
            "colorbar": {
             "outlinewidth": 0,
             "ticks": ""
            },
            "colorscale": [
             [
              0,
              "#0d0887"
             ],
             [
              0.1111111111111111,
              "#46039f"
             ],
             [
              0.2222222222222222,
              "#7201a8"
             ],
             [
              0.3333333333333333,
              "#9c179e"
             ],
             [
              0.4444444444444444,
              "#bd3786"
             ],
             [
              0.5555555555555556,
              "#d8576b"
             ],
             [
              0.6666666666666666,
              "#ed7953"
             ],
             [
              0.7777777777777778,
              "#fb9f3a"
             ],
             [
              0.8888888888888888,
              "#fdca26"
             ],
             [
              1,
              "#f0f921"
             ]
            ],
            "type": "heatmapgl"
           }
          ],
          "histogram": [
           {
            "marker": {
             "colorbar": {
              "outlinewidth": 0,
              "ticks": ""
             }
            },
            "type": "histogram"
           }
          ],
          "histogram2d": [
           {
            "colorbar": {
             "outlinewidth": 0,
             "ticks": ""
            },
            "colorscale": [
             [
              0,
              "#0d0887"
             ],
             [
              0.1111111111111111,
              "#46039f"
             ],
             [
              0.2222222222222222,
              "#7201a8"
             ],
             [
              0.3333333333333333,
              "#9c179e"
             ],
             [
              0.4444444444444444,
              "#bd3786"
             ],
             [
              0.5555555555555556,
              "#d8576b"
             ],
             [
              0.6666666666666666,
              "#ed7953"
             ],
             [
              0.7777777777777778,
              "#fb9f3a"
             ],
             [
              0.8888888888888888,
              "#fdca26"
             ],
             [
              1,
              "#f0f921"
             ]
            ],
            "type": "histogram2d"
           }
          ],
          "histogram2dcontour": [
           {
            "colorbar": {
             "outlinewidth": 0,
             "ticks": ""
            },
            "colorscale": [
             [
              0,
              "#0d0887"
             ],
             [
              0.1111111111111111,
              "#46039f"
             ],
             [
              0.2222222222222222,
              "#7201a8"
             ],
             [
              0.3333333333333333,
              "#9c179e"
             ],
             [
              0.4444444444444444,
              "#bd3786"
             ],
             [
              0.5555555555555556,
              "#d8576b"
             ],
             [
              0.6666666666666666,
              "#ed7953"
             ],
             [
              0.7777777777777778,
              "#fb9f3a"
             ],
             [
              0.8888888888888888,
              "#fdca26"
             ],
             [
              1,
              "#f0f921"
             ]
            ],
            "type": "histogram2dcontour"
           }
          ],
          "mesh3d": [
           {
            "colorbar": {
             "outlinewidth": 0,
             "ticks": ""
            },
            "type": "mesh3d"
           }
          ],
          "parcoords": [
           {
            "line": {
             "colorbar": {
              "outlinewidth": 0,
              "ticks": ""
             }
            },
            "type": "parcoords"
           }
          ],
          "pie": [
           {
            "automargin": true,
            "type": "pie"
           }
          ],
          "scatter": [
           {
            "marker": {
             "colorbar": {
              "outlinewidth": 0,
              "ticks": ""
             }
            },
            "type": "scatter"
           }
          ],
          "scatter3d": [
           {
            "line": {
             "colorbar": {
              "outlinewidth": 0,
              "ticks": ""
             }
            },
            "marker": {
             "colorbar": {
              "outlinewidth": 0,
              "ticks": ""
             }
            },
            "type": "scatter3d"
           }
          ],
          "scattercarpet": [
           {
            "marker": {
             "colorbar": {
              "outlinewidth": 0,
              "ticks": ""
             }
            },
            "type": "scattercarpet"
           }
          ],
          "scattergeo": [
           {
            "marker": {
             "colorbar": {
              "outlinewidth": 0,
              "ticks": ""
             }
            },
            "type": "scattergeo"
           }
          ],
          "scattergl": [
           {
            "marker": {
             "colorbar": {
              "outlinewidth": 0,
              "ticks": ""
             }
            },
            "type": "scattergl"
           }
          ],
          "scattermapbox": [
           {
            "marker": {
             "colorbar": {
              "outlinewidth": 0,
              "ticks": ""
             }
            },
            "type": "scattermapbox"
           }
          ],
          "scatterpolar": [
           {
            "marker": {
             "colorbar": {
              "outlinewidth": 0,
              "ticks": ""
             }
            },
            "type": "scatterpolar"
           }
          ],
          "scatterpolargl": [
           {
            "marker": {
             "colorbar": {
              "outlinewidth": 0,
              "ticks": ""
             }
            },
            "type": "scatterpolargl"
           }
          ],
          "scatterternary": [
           {
            "marker": {
             "colorbar": {
              "outlinewidth": 0,
              "ticks": ""
             }
            },
            "type": "scatterternary"
           }
          ],
          "surface": [
           {
            "colorbar": {
             "outlinewidth": 0,
             "ticks": ""
            },
            "colorscale": [
             [
              0,
              "#0d0887"
             ],
             [
              0.1111111111111111,
              "#46039f"
             ],
             [
              0.2222222222222222,
              "#7201a8"
             ],
             [
              0.3333333333333333,
              "#9c179e"
             ],
             [
              0.4444444444444444,
              "#bd3786"
             ],
             [
              0.5555555555555556,
              "#d8576b"
             ],
             [
              0.6666666666666666,
              "#ed7953"
             ],
             [
              0.7777777777777778,
              "#fb9f3a"
             ],
             [
              0.8888888888888888,
              "#fdca26"
             ],
             [
              1,
              "#f0f921"
             ]
            ],
            "type": "surface"
           }
          ],
          "table": [
           {
            "cells": {
             "fill": {
              "color": "#EBF0F8"
             },
             "line": {
              "color": "white"
             }
            },
            "header": {
             "fill": {
              "color": "#C8D4E3"
             },
             "line": {
              "color": "white"
             }
            },
            "type": "table"
           }
          ]
         },
         "layout": {
          "annotationdefaults": {
           "arrowcolor": "#2a3f5f",
           "arrowhead": 0,
           "arrowwidth": 1
          },
          "coloraxis": {
           "colorbar": {
            "outlinewidth": 0,
            "ticks": ""
           }
          },
          "colorscale": {
           "diverging": [
            [
             0,
             "#8e0152"
            ],
            [
             0.1,
             "#c51b7d"
            ],
            [
             0.2,
             "#de77ae"
            ],
            [
             0.3,
             "#f1b6da"
            ],
            [
             0.4,
             "#fde0ef"
            ],
            [
             0.5,
             "#f7f7f7"
            ],
            [
             0.6,
             "#e6f5d0"
            ],
            [
             0.7,
             "#b8e186"
            ],
            [
             0.8,
             "#7fbc41"
            ],
            [
             0.9,
             "#4d9221"
            ],
            [
             1,
             "#276419"
            ]
           ],
           "sequential": [
            [
             0,
             "#0d0887"
            ],
            [
             0.1111111111111111,
             "#46039f"
            ],
            [
             0.2222222222222222,
             "#7201a8"
            ],
            [
             0.3333333333333333,
             "#9c179e"
            ],
            [
             0.4444444444444444,
             "#bd3786"
            ],
            [
             0.5555555555555556,
             "#d8576b"
            ],
            [
             0.6666666666666666,
             "#ed7953"
            ],
            [
             0.7777777777777778,
             "#fb9f3a"
            ],
            [
             0.8888888888888888,
             "#fdca26"
            ],
            [
             1,
             "#f0f921"
            ]
           ],
           "sequentialminus": [
            [
             0,
             "#0d0887"
            ],
            [
             0.1111111111111111,
             "#46039f"
            ],
            [
             0.2222222222222222,
             "#7201a8"
            ],
            [
             0.3333333333333333,
             "#9c179e"
            ],
            [
             0.4444444444444444,
             "#bd3786"
            ],
            [
             0.5555555555555556,
             "#d8576b"
            ],
            [
             0.6666666666666666,
             "#ed7953"
            ],
            [
             0.7777777777777778,
             "#fb9f3a"
            ],
            [
             0.8888888888888888,
             "#fdca26"
            ],
            [
             1,
             "#f0f921"
            ]
           ]
          },
          "colorway": [
           "#636efa",
           "#EF553B",
           "#00cc96",
           "#ab63fa",
           "#FFA15A",
           "#19d3f3",
           "#FF6692",
           "#B6E880",
           "#FF97FF",
           "#FECB52"
          ],
          "font": {
           "color": "#2a3f5f"
          },
          "geo": {
           "bgcolor": "white",
           "lakecolor": "white",
           "landcolor": "#E5ECF6",
           "showlakes": true,
           "showland": true,
           "subunitcolor": "white"
          },
          "hoverlabel": {
           "align": "left"
          },
          "hovermode": "closest",
          "mapbox": {
           "style": "light"
          },
          "paper_bgcolor": "white",
          "plot_bgcolor": "#E5ECF6",
          "polar": {
           "angularaxis": {
            "gridcolor": "white",
            "linecolor": "white",
            "ticks": ""
           },
           "bgcolor": "#E5ECF6",
           "radialaxis": {
            "gridcolor": "white",
            "linecolor": "white",
            "ticks": ""
           }
          },
          "scene": {
           "xaxis": {
            "backgroundcolor": "#E5ECF6",
            "gridcolor": "white",
            "gridwidth": 2,
            "linecolor": "white",
            "showbackground": true,
            "ticks": "",
            "zerolinecolor": "white"
           },
           "yaxis": {
            "backgroundcolor": "#E5ECF6",
            "gridcolor": "white",
            "gridwidth": 2,
            "linecolor": "white",
            "showbackground": true,
            "ticks": "",
            "zerolinecolor": "white"
           },
           "zaxis": {
            "backgroundcolor": "#E5ECF6",
            "gridcolor": "white",
            "gridwidth": 2,
            "linecolor": "white",
            "showbackground": true,
            "ticks": "",
            "zerolinecolor": "white"
           }
          },
          "shapedefaults": {
           "line": {
            "color": "#2a3f5f"
           }
          },
          "ternary": {
           "aaxis": {
            "gridcolor": "white",
            "linecolor": "white",
            "ticks": ""
           },
           "baxis": {
            "gridcolor": "white",
            "linecolor": "white",
            "ticks": ""
           },
           "bgcolor": "#E5ECF6",
           "caxis": {
            "gridcolor": "white",
            "linecolor": "white",
            "ticks": ""
           }
          },
          "title": {
           "x": 0.05
          },
          "xaxis": {
           "automargin": true,
           "gridcolor": "white",
           "linecolor": "white",
           "ticks": "",
           "title": {
            "standoff": 15
           },
           "zerolinecolor": "white",
           "zerolinewidth": 2
          },
          "yaxis": {
           "automargin": true,
           "gridcolor": "white",
           "linecolor": "white",
           "ticks": "",
           "title": {
            "standoff": 15
           },
           "zerolinecolor": "white",
           "zerolinewidth": 2
          }
         }
        },
        "title": {
         "text": "Driving Distance vs. Putts Per Round",
         "x": 0.5
        },
        "xaxis": {
         "anchor": "y",
         "domain": [
          0,
          1
         ],
         "title": {
          "text": "Driving Distance - (AVG.)"
         }
        },
        "yaxis": {
         "anchor": "x",
         "domain": [
          0,
          1
         ],
         "title": {
          "text": "Putts Per Round - (AVG)"
         }
        }
       }
      },
      "text/html": [
       "<div>                            <div id=\"27d4e617-49b1-41c1-82e8-7227756b354a\" class=\"plotly-graph-div\" style=\"height:525px; width:100%;\"></div>            <script type=\"text/javascript\">                require([\"plotly\"], function(Plotly) {                    window.PLOTLYENV=window.PLOTLYENV || {};                                    if (document.getElementById(\"27d4e617-49b1-41c1-82e8-7227756b354a\")) {                    Plotly.newPlot(                        \"27d4e617-49b1-41c1-82e8-7227756b354a\",                        [{\"hovertemplate\": \"Driving Distance - (AVG.)=%{x}<br>Putts Per Round - (AVG)=%{y}<extra></extra>\", \"legendgroup\": \"\", \"marker\": {\"color\": \"#636efa\", \"symbol\": \"circle\"}, \"mode\": \"markers\", \"name\": \"\", \"orientation\": \"v\", \"showlegend\": false, \"type\": \"scatter\", \"x\": [287.0967741935484, 303.816129032258, 294.88387096774204, 291.70645161290315, 292.4387096774193, 298.88387096774204, 300.03548387096777, 287.77096774193546, 276.73870967741937, 301.9225806451615, 302.5870967741936, 290.65161290322584, 292.1, 285.15483870967734, 281.6387096774194, 291.13870967741934, null, 288.14516129032256, 297.27096774193546, 276.41851851851857, 284.0612903225807, null, 288.7709677419354, 289.7548387096775, 287.0, null, 280.65806451612906, 297.8290322580645, 312.57142857142856, 302.5870967741936, 287.7612903225807, 303.8516129032258, 276.0, 262.4, null, 273.92258064516125, 284.39032258064515, 275.1032258064515, 284.78387096774185, 293.00322580645155, 306.3354838709677, 301.6161290322581, 311.30645161290334, 293.1935483870967, 309.45, 284.9548387096774, 316.8290322580646, 307.93225806451613, 296.0, 293.3516129032259, 300.3354838709678, 268.93333333333334, 270.68, 291.80000000000007, 300.52903225806443, 292.6129032258064, null, null, 296.0225806451613, 297.4483870967741, 287.54838709677426, null, 283.35517241379307, 287.8193548387098, 288.91, 291.49677419354845, null, null, 294.91290322580653, 285.58064516129025, 272.10952380952386, 300.61363636363626, 297.9233333333333, null, 302.1677419354839, 292.3129032258065, 276.85806451612905, 271.0, null, 289.41578947368413, 290.7935483870968, null, 274.03125, null, 293.4580645161291, 285.12857142857143, 306.6645161290323, 294.90322580645153, 277.6, 285.1, 297.4193548387097, 282.36774193548393, 287.8451612903226, 288.56666666666666, null, 284.02903225806443, null, 308.84516129032255, 305.6, null, 286.3032258064516, 310.70416666666665, 291.46451612903235, 302.4733333333334, 302.39354838709676, 299.53225806451604, null, 286.2714285714286, 306.83225806451617, 295.5161290322581, 293.8290322580645, 292.8516129032258, 303.1967741935483, 285.19677419354844, 289.9516129032258, 293.57096774193536, 290.5727272727272, 290.40000000000003, null, 301.54193548387093, 287.14193548387095, 285.0, 304.1612903225807, 305.8806451612903, 274.5322580645162, 288.1967741935483, 295.9096774193549, 298.3322580645162, 299.374193548387, 292.05806451612904, 289.9709677419354, 285.28181818181815, 295.4935483870969, null, 281.9217391304348, null, null, 283.5137931034482, 280.57096774193553, 263.5, 305.13548387096785, 287.5774193548387, 279.64193548387095, null, 295.64193548387095, 287.9225806451613, 288.8774193548387, 291.5903225806452, 294.625, 305.5064516129033, 301.1967741935483, null, 297.73870967741925, 299.98709677419356, 289.4290322580645, null, 286.7, 287.40000000000003, 286.7064516129032, 293.5451612903226, 291.3, 290.5193548387097, 305.3290322580645, 294.06774193548387, 288.1129032258065, 281.87096774193554, 290.2161290322581, 284.21290322580643, 299.1749999999999, 309.87916666666666, 295.3935483870967, null, 314.1354838709677, 294.71935483870976, 296.3709677419355, 291.14166666666665, 295.17419354838705, 278.0739130434782, 305.06774193548375, 291.7310344827587, 293.9161290322581, 290.9419354838709, 304.21578947368425, 287.9115384615385, null, 305.3, 298.79677419354846, 275.0, 286.9387096774194, null, null, 279.1, 286.0451612903226, 282.925, 290.6483870967742, 298.58387096774203, 301.0, 308.2451612903227, null, null, 274.6, 284.4419354838709, 309.02903225806455, 294.6774193548387, 299.7483870967742, 293.2967741935484, 294.73548387096776, 289.8387096774194, 296.46774193548384, 306.4516129032257, 289.21034482758625, null, 290.0612903225807, 303.4741935483871, 286.64285714285717, null, 293.94166666666666, 288.3483870967742, 282.5193548387096, 285.4129032258063, 285.6612903225806, 295.8129032258064, 312.725806451613, 290.1354838709678, 287.0774193548386, 290.72580645161287, 275.532258064516, 288.38064516129026, 284.5354838709678, 298.9741935483872, 306.2548387096775, 294.52258064516127, 297.6645161290323, 302.0, 294.0354838709677, 282.2354838709678, 286.54838709677426, 270.1, 289.83225806451605, 295.1870967741936, null, 293.00967741935483, 294.12000000000006, 297.5903225806452, 301.86451612903227, 302.248, 310.29677419354834, 298.84, 292.7258064516129, 294.5, 310.0, 293.56451612903226, null, null, 293.90322580645164, 289.3, 283.8, 293.48214285714306, 269.32, 297.37741935483876, 295.63225806451607, 296.1806451612902, 276.1258064516129, null, 297.55, 299.84705882352944, null, 287.9032258064516, null, 304.69230769230774, 299.3241379310344, null, 311.04193548387093, null, 307.37096774193554, 294.7903225806452, 286.6709677419355, 288.46111111111105, 298.8299999999999, 282.08064516129036, null, 285.59677419354847, 290.43225806451613, 267.8, 284.1387096774194, null, 312.13225806451607, 302.43548387096774, null, 293.9, 309.3, 285.8322580645162, null], \"xaxis\": \"x\", \"y\": [28.072258064516127, 29.05806451612904, 28.70709677419355, 28.7225806451613, 29.336129032258057, 29.01451612903226, 29.152258064516143, 29.24677419354839, 28.8225806451613, 29.92709677419356, 29.87096774193549, 29.372258064516128, 28.5, 29.35354838709677, 28.62032258064517, 28.513870967741934, null, 29.056129032258077, 28.912580645161288, 28.76037037037036, 29.11354838709677, null, 28.815806451612904, 29.386451612903226, 28.97, null, 28.743225806451626, 30.17677419354838, 29.54, 29.098064516129032, 28.37903225806452, 30.36806451612903, 28.45, 29.67, null, 28.263225806451608, 28.723870967741938, 28.45516129032258, 29.73580645161291, 29.52258064516129, 29.198709677419362, 28.568387096774195, 30.048064516129028, 28.38741935483871, 29.26774193548387, 28.848064516129043, 29.73129032258065, 29.165806451612895, 28.385806451612915, 28.86580645161291, 29.425161290322578, 29.44333333333333, 29.080000000000005, 28.846818181818175, 29.628709677419355, 29.427096774193554, null, null, 29.054193548387097, 29.244838709677417, 28.90354838709678, null, 29.28586206896552, 28.599032258064515, 29.85433333333333, 28.953225806451613, null, null, 29.997741935483873, 28.44451612903226, 29.455238095238094, 29.170454545454536, 28.522333333333332, null, 29.058709677419362, 29.663225806451607, 28.804838709677416, 29.82, null, 29.353684210526325, 28.476774193548394, null, 28.939374999999995, null, 28.09967741935484, 29.58571428571429, 28.658064516129038, 29.142580645161303, 29.5, 28.3, 29.90290322580645, 29.36387096774194, 29.29354838709677, 28.461666666666666, null, 28.928064516129048, 29.75, 29.554838709677433, 30.14, null, 28.816774193548394, 29.40458333333334, 29.19161290322581, 29.055333333333333, 28.96322580645162, 28.744516129032263, null, 29.363333333333337, 29.266451612903225, 29.020967741935483, 29.477741935483884, 29.344838709677422, 29.530322580645155, 29.97645161290322, 29.49096774193548, 28.56645161290322, 30.115000000000006, 29.0, null, 28.54709677419354, 30.420322580645163, 28.755, 29.398064516129033, 29.282903225806443, 29.32161290322581, 29.610967741935482, 29.624193548387094, 28.967419354838718, 29.48129032258064, 29.112903225806445, 29.029999999999998, 28.70909090909091, 29.99096774193548, null, 29.288260869565207, null, null, 30.21724137931035, 29.54516129032258, 30.13, 28.716129032258074, 28.681290322580637, 28.362903225806463, null, 28.03516129032258, 28.37903225806452, 29.35258064516129, 28.55645161290322, 28.471818181818183, 27.259677419354837, 28.927096774193537, null, 29.44935483870967, 29.539677419354835, 28.665806451612895, null, 31.78, 30.329999999999995, 28.47903225806451, 29.277096774193545, 30.0, 29.52193548387097, 29.33096774193547, 27.967741935483858, 29.400967741935478, 29.440322580645155, 29.660967741935476, 29.49290322580644, 29.2067741935484, 30.42166666666667, 29.17935483870968, null, 29.29290322580646, 28.806129032258074, 28.889677419354847, 29.02166666666666, 29.26419354838709, 27.72869565217392, 28.865161290322586, 28.652068965517238, 28.699354838709677, 29.288709677419345, 28.599473684210526, 28.823461538461537, null, 29.83, 29.119032258064514, 29.504193548387093, 28.446774193548382, null, 30.63, 28.08, 28.759999999999994, 28.998749999999998, 28.793225806451606, 29.302258064516135, 26.83, 28.422258064516132, null, null, 28.36, 28.860000000000007, 28.4658064516129, 28.634516129032257, 28.833225806451612, 28.514516129032256, 29.315483870967743, 27.95516129032258, 29.081612903225803, 28.661290322580648, 28.79612903225807, null, 28.550322580645165, 28.637741935483874, 29.19571428571428, null, 29.740833333333327, 29.006774193548395, 29.09419354838709, 29.00322580645161, 29.737741935483875, 28.65548387096775, 28.928709677419352, 28.66322580645161, 29.468709677419355, 29.180967741935483, 29.097419354838713, 28.582580645161293, 29.111935483870962, 29.01612903225806, 28.39354838709678, 28.591612903225805, 28.806451612903235, 28.364999999999995, 29.21774193548387, 29.55483870967741, 29.02548387096774, 28.305161290322577, 28.789032258064516, 29.14935483870968, 28.88, 29.00161290322581, 29.024666666666672, 28.918387096774186, 29.688387096774186, 28.917999999999996, 29.276129032258066, 28.936, 29.251935483870962, 30.0, 28.635555555555552, 27.83645161290323, 28.5, null, 28.606129032258057, 28.170000000000005, 29.63, 29.484285714285722, 28.968, 29.018709677419352, 28.912903225806442, 29.108387096774187, 29.579354838709676, 27.13, 29.299999999999997, 29.526470588235295, null, 29.142580645161285, null, 29.75, 29.148965517241383, null, 28.570000000000004, null, 29.410967741935483, 28.743870967741938, 29.609999999999996, 29.37888888888889, 28.87483870967742, 28.210967741935487, null, 28.496451612903222, 29.021935483870976, 29.89, 29.262903225806454, null, 28.038387096774198, 28.642258064516124, null, 30.0, 28.0, 28.487419354838707, null], \"yaxis\": \"y\"}, {\"hovertemplate\": \"<b>OLS trendline</b><br>Putts Per Round - (AVG) = -0.000280652 * Driving Distance - (AVG.) + 29.1494<br>R<sup>2</sup>=0.000023<br><br>Driving Distance - (AVG.)=%{x}<br>Putts Per Round - (AVG)=%{y} <b>(trend)</b><extra></extra>\", \"legendgroup\": \"\", \"marker\": {\"color\": \"#636efa\", \"symbol\": \"circle\"}, \"mode\": \"lines\", \"name\": \"\", \"showlegend\": false, \"type\": \"scatter\", \"x\": [262.4, 263.5, 267.8, 268.93333333333334, 269.32, 270.1, 270.68, 271.0, 272.10952380952386, 273.92258064516125, 274.03125, 274.5322580645162, 274.6, 275.0, 275.1032258064515, 275.532258064516, 276.0, 276.1258064516129, 276.41851851851857, 276.73870967741937, 276.85806451612905, 277.6, 278.0739130434782, 279.1, 279.64193548387095, 280.57096774193553, 280.65806451612906, 281.6387096774194, 281.87096774193554, 281.9217391304348, 282.08064516129036, 282.2354838709678, 282.36774193548393, 282.5193548387096, 282.925, 283.35517241379307, 283.5137931034482, 283.8, 284.02903225806443, 284.0612903225807, 284.1387096774194, 284.21290322580643, 284.39032258064515, 284.4419354838709, 284.5354838709678, 284.78387096774185, 284.9548387096774, 285.0, 285.1, 285.12857142857143, 285.15483870967734, 285.19677419354844, 285.28181818181815, 285.4129032258063, 285.58064516129025, 285.59677419354847, 285.6612903225806, 285.8322580645162, 286.0451612903226, 286.2714285714286, 286.3032258064516, 286.54838709677426, 286.64285714285717, 286.6709677419355, 286.7, 286.7064516129032, 286.9387096774194, 287.0, 287.0774193548386, 287.0967741935484, 287.14193548387095, 287.40000000000003, 287.54838709677426, 287.5774193548387, 287.7612903225807, 287.77096774193546, 287.8193548387098, 287.8451612903226, 287.9032258064516, 287.9115384615385, 287.9225806451613, 288.1129032258065, 288.14516129032256, 288.1967741935483, 288.3483870967742, 288.38064516129026, 288.46111111111105, 288.56666666666666, 288.7709677419354, 288.8774193548387, 288.91, 289.21034482758625, 289.3, 289.41578947368413, 289.4290322580645, 289.7548387096775, 289.83225806451605, 289.8387096774194, 289.9516129032258, 289.9709677419354, 290.0612903225807, 290.1354838709678, 290.2161290322581, 290.40000000000003, 290.43225806451613, 290.5193548387097, 290.5727272727272, 290.6483870967742, 290.65161290322584, 290.72580645161287, 290.7935483870968, 290.9419354838709, 291.13870967741934, 291.14166666666665, 291.3, 291.46451612903235, 291.49677419354845, 291.5903225806452, 291.70645161290315, 291.7310344827587, 291.80000000000007, 292.05806451612904, 292.1, 292.3129032258065, 292.4387096774193, 292.6129032258064, 292.7258064516129, 292.8516129032258, 293.00322580645155, 293.00967741935483, 293.1935483870967, 293.2967741935484, 293.3516129032259, 293.4580645161291, 293.48214285714306, 293.5451612903226, 293.56451612903226, 293.57096774193536, 293.8290322580645, 293.9, 293.90322580645164, 293.9161290322581, 293.94166666666666, 294.0354838709677, 294.06774193548387, 294.12000000000006, 294.5, 294.52258064516127, 294.625, 294.6774193548387, 294.71935483870976, 294.73548387096776, 294.7903225806452, 294.88387096774204, 294.90322580645153, 294.91290322580653, 295.17419354838705, 295.1870967741936, 295.3935483870967, 295.4935483870969, 295.5161290322581, 295.63225806451607, 295.64193548387095, 295.8129032258064, 295.9096774193549, 296.0, 296.0225806451613, 296.1806451612902, 296.3709677419355, 296.46774193548384, 297.27096774193546, 297.37741935483876, 297.4193548387097, 297.4483870967741, 297.55, 297.5903225806452, 297.6645161290323, 297.73870967741925, 297.8290322580645, 297.9233333333333, 298.3322580645162, 298.58387096774203, 298.79677419354846, 298.8299999999999, 298.84, 298.88387096774204, 298.9741935483872, 299.1749999999999, 299.3241379310344, 299.374193548387, 299.53225806451604, 299.7483870967742, 299.84705882352944, 299.98709677419356, 300.03548387096777, 300.3354838709678, 300.52903225806443, 300.61363636363626, 301.0, 301.1967741935483, 301.54193548387093, 301.6161290322581, 301.86451612903227, 301.9225806451615, 302.0, 302.1677419354839, 302.248, 302.39354838709676, 302.43548387096774, 302.4733333333334, 302.5870967741936, 302.5870967741936, 303.1967741935483, 303.4741935483871, 303.816129032258, 303.8516129032258, 304.1612903225807, 304.21578947368425, 304.69230769230774, 305.06774193548375, 305.13548387096785, 305.3, 305.3290322580645, 305.5064516129033, 305.6, 305.8806451612903, 306.2548387096775, 306.3354838709677, 306.4516129032257, 306.6645161290323, 306.83225806451617, 307.37096774193554, 307.93225806451613, 308.2451612903227, 308.84516129032255, 309.02903225806455, 309.3, 309.45, 309.87916666666666, 310.0, 310.29677419354834, 310.70416666666665, 311.04193548387093, 311.30645161290334, 312.13225806451607, 312.57142857142856, 312.725806451613, 314.1354838709677, 316.8290322580646], \"xaxis\": \"x\", \"y\": [29.075763338258557, 29.07545462132989, 29.074247818790546, 29.07392974680343, 29.073821228125475, 29.07360231975787, 29.07343954174094, 29.07334973317987, 29.07303834337736, 29.07252950579754, 29.072499007552572, 29.07235839876083, 29.072339386867863, 29.072227126166528, 29.072198155662957, 29.072077747007494, 29.071946474413192, 29.071911166611965, 29.071829016457166, 29.07173915424702, 29.071705657102264, 29.071497431607856, 29.071364427081274, 29.071076453977852, 29.07092435883411, 29.070663624301975, 29.07063918043959, 29.070363960655673, 29.07029877702264, 29.07028452794344, 29.070239930687265, 29.070196474931908, 29.07015935647421, 29.07011680604709, 29.07000296102134, 29.069882232379175, 29.069837715204507, 29.069757390737173, 29.069693112432375, 29.06968405915001, 29.069662331272333, 29.069641508722892, 29.069591715669883, 29.069577230418098, 29.069550975899237, 29.069481265625022, 29.06943328322848, 29.06942060863317, 29.069392543457838, 29.069384524836313, 29.069377152877816, 29.06936538361074, 29.06934151586632, 29.06930472661889, 29.06925764955059, 29.069253122909405, 29.069235016344674, 29.069187033948136, 29.069127282284523, 29.06906377997536, 29.0690548560256, 29.06898605107962, 29.068959537895548, 29.068951648606628, 29.068943500652498, 29.068941689996027, 29.068876506362994, 29.068859305126498, 29.06883757724882, 29.0688321452794, 29.06881947068409, 29.068747044425166, 29.068705399326284, 29.068697251372154, 29.06864564766267, 29.06864293167796, 29.06862935175441, 29.06862210912852, 29.06860581322026, 29.068603480259036, 29.068600381250842, 29.068546966884885, 29.06853791360252, 29.068523428350733, 29.068480877923616, 29.06847182464125, 29.068449241731347, 29.068419617379607, 29.068362279924624, 29.068332404092818, 29.068323260277626, 29.068238967975162, 29.068213806093826, 29.06818130957502, 29.068177592964364, 29.06808615481247, 29.068064426934793, 29.068062616278322, 29.06803092979004, 29.06802549782062, 29.06800014863, 29.067979326080557, 29.067956692874642, 29.06790508916516, 29.067896035882793, 29.067871592020406, 29.067856612953218, 29.06783537889094, 29.067834473562705, 29.067813651013264, 29.067794639120297, 29.067752994021415, 29.067697768998983, 29.067696939114768, 29.067652502587155, 29.06760633084709, 29.067597277564726, 29.067571023045865, 29.067538431229348, 29.06753153200382, 29.067512176710487, 29.067439750451562, 29.067427981184487, 29.067368229520874, 29.067332921719647, 29.067284033994873, 29.067252347506592, 29.067217039705366, 29.067174489278248, 29.067172678621777, 29.06712107491229, 29.067092104408722, 29.067076713828698, 29.06704683799689, 29.06704008036827, 29.067022394134504, 29.067016962165084, 29.067015151508613, 29.06694272524969, 29.066922808028483, 29.066921902700248, 29.0669182813873, 29.06691111420543, 29.066884784242546, 29.06687573096018, 29.066861064642747, 29.06675441697648, 29.066748079678824, 29.066719335507315, 29.06670462392347, 29.066692854656395, 29.06668832801521, 29.06667293743519, 29.06664668291633, 29.066641250946912, 29.066638534962202, 29.06656520337504, 29.066561582062093, 29.066503641054954, 29.06647557587962, 29.066469238581963, 29.066436646765446, 29.066433930780736, 29.066385948384198, 29.0663587885371, 29.06633343934648, 29.06632710204882, 29.06628274096523, 29.066229326599274, 29.066202166752177, 29.06597674002127, 29.065946864189463, 29.065935094922388, 29.065926946968258, 29.065898429128808, 29.06588711252585, 29.06586628997641, 29.065845467426968, 29.065820118236346, 29.06579365247423, 29.06567888703144, 29.06560827142899, 29.065548519765375, 29.065539194884536, 29.065536388367004, 29.065524075902985, 29.065498726712363, 29.065442370029636, 29.065400514207802, 29.065386466011027, 29.06534210492744, 29.065281447935586, 29.065253755542468, 29.06521445364608, 29.06520087372253, 29.06511667819653, 29.065062358502338, 29.06503861421177, 29.0649301805798, 29.064874955557368, 29.064778085436057, 29.064757262886616, 29.064687552612398, 29.06467125670414, 29.064649528826465, 29.064602451758162, 29.064579927191637, 29.064539078781603, 29.064527309514528, 29.06451668699655, 29.064484759087406, 29.064484759087406, 29.064313652050696, 29.064235793822352, 29.064139829029276, 29.064129870418675, 29.064042958907965, 29.06402766362565, 29.063893927952098, 29.063788561673487, 29.06376954978052, 29.063723378040457, 29.063715230086327, 29.063665437033315, 29.063639182514454, 29.063560418957874, 29.063455400882432, 29.063432767676517, 29.06340017586, 29.063340424196387, 29.063293347128088, 29.06314215731258, 29.062984630199416, 29.06289681336047, 29.062728422308467, 29.062676818598984, 29.062600771027114, 29.062558673264114, 29.062438226886638, 29.062404314799778, 29.062321024602014, 29.062206689190138, 29.062111893779367, 29.062037656863968, 29.061805892835405, 29.061682638862628, 29.06163931243988, 29.061243684000498, 29.060487734922965], \"yaxis\": \"y\"}],                        {\"legend\": {\"tracegroupgap\": 0}, \"margin\": {\"t\": 60}, \"template\": {\"data\": {\"bar\": [{\"error_x\": {\"color\": \"#2a3f5f\"}, \"error_y\": {\"color\": \"#2a3f5f\"}, \"marker\": {\"line\": {\"color\": \"#E5ECF6\", \"width\": 0.5}}, \"type\": \"bar\"}], \"barpolar\": [{\"marker\": {\"line\": {\"color\": \"#E5ECF6\", \"width\": 0.5}}, \"type\": \"barpolar\"}], \"carpet\": [{\"aaxis\": {\"endlinecolor\": \"#2a3f5f\", \"gridcolor\": \"white\", \"linecolor\": \"white\", \"minorgridcolor\": \"white\", \"startlinecolor\": \"#2a3f5f\"}, \"baxis\": {\"endlinecolor\": \"#2a3f5f\", \"gridcolor\": \"white\", \"linecolor\": \"white\", \"minorgridcolor\": \"white\", \"startlinecolor\": \"#2a3f5f\"}, \"type\": \"carpet\"}], \"choropleth\": [{\"colorbar\": {\"outlinewidth\": 0, \"ticks\": \"\"}, \"type\": \"choropleth\"}], \"contour\": [{\"colorbar\": {\"outlinewidth\": 0, \"ticks\": \"\"}, \"colorscale\": [[0.0, \"#0d0887\"], [0.1111111111111111, \"#46039f\"], [0.2222222222222222, \"#7201a8\"], [0.3333333333333333, \"#9c179e\"], [0.4444444444444444, \"#bd3786\"], [0.5555555555555556, \"#d8576b\"], [0.6666666666666666, \"#ed7953\"], [0.7777777777777778, \"#fb9f3a\"], [0.8888888888888888, \"#fdca26\"], [1.0, \"#f0f921\"]], \"type\": \"contour\"}], \"contourcarpet\": [{\"colorbar\": {\"outlinewidth\": 0, \"ticks\": \"\"}, \"type\": \"contourcarpet\"}], \"heatmap\": [{\"colorbar\": {\"outlinewidth\": 0, \"ticks\": \"\"}, \"colorscale\": [[0.0, \"#0d0887\"], [0.1111111111111111, \"#46039f\"], [0.2222222222222222, \"#7201a8\"], [0.3333333333333333, \"#9c179e\"], [0.4444444444444444, \"#bd3786\"], [0.5555555555555556, \"#d8576b\"], [0.6666666666666666, \"#ed7953\"], [0.7777777777777778, \"#fb9f3a\"], [0.8888888888888888, \"#fdca26\"], [1.0, \"#f0f921\"]], \"type\": \"heatmap\"}], \"heatmapgl\": [{\"colorbar\": {\"outlinewidth\": 0, \"ticks\": \"\"}, \"colorscale\": [[0.0, \"#0d0887\"], [0.1111111111111111, \"#46039f\"], [0.2222222222222222, \"#7201a8\"], [0.3333333333333333, \"#9c179e\"], [0.4444444444444444, \"#bd3786\"], [0.5555555555555556, \"#d8576b\"], [0.6666666666666666, \"#ed7953\"], [0.7777777777777778, \"#fb9f3a\"], [0.8888888888888888, \"#fdca26\"], [1.0, \"#f0f921\"]], \"type\": \"heatmapgl\"}], \"histogram\": [{\"marker\": {\"colorbar\": {\"outlinewidth\": 0, \"ticks\": \"\"}}, \"type\": \"histogram\"}], \"histogram2d\": [{\"colorbar\": {\"outlinewidth\": 0, \"ticks\": \"\"}, \"colorscale\": [[0.0, \"#0d0887\"], [0.1111111111111111, \"#46039f\"], [0.2222222222222222, \"#7201a8\"], [0.3333333333333333, \"#9c179e\"], [0.4444444444444444, \"#bd3786\"], [0.5555555555555556, \"#d8576b\"], [0.6666666666666666, \"#ed7953\"], [0.7777777777777778, \"#fb9f3a\"], [0.8888888888888888, \"#fdca26\"], [1.0, \"#f0f921\"]], \"type\": \"histogram2d\"}], \"histogram2dcontour\": [{\"colorbar\": {\"outlinewidth\": 0, \"ticks\": \"\"}, \"colorscale\": [[0.0, \"#0d0887\"], [0.1111111111111111, \"#46039f\"], [0.2222222222222222, \"#7201a8\"], [0.3333333333333333, \"#9c179e\"], [0.4444444444444444, \"#bd3786\"], [0.5555555555555556, \"#d8576b\"], [0.6666666666666666, \"#ed7953\"], [0.7777777777777778, \"#fb9f3a\"], [0.8888888888888888, \"#fdca26\"], [1.0, \"#f0f921\"]], \"type\": \"histogram2dcontour\"}], \"mesh3d\": [{\"colorbar\": {\"outlinewidth\": 0, \"ticks\": \"\"}, \"type\": \"mesh3d\"}], \"parcoords\": [{\"line\": {\"colorbar\": {\"outlinewidth\": 0, \"ticks\": \"\"}}, \"type\": \"parcoords\"}], \"pie\": [{\"automargin\": true, \"type\": \"pie\"}], \"scatter\": [{\"marker\": {\"colorbar\": {\"outlinewidth\": 0, \"ticks\": \"\"}}, \"type\": \"scatter\"}], \"scatter3d\": [{\"line\": {\"colorbar\": {\"outlinewidth\": 0, \"ticks\": \"\"}}, \"marker\": {\"colorbar\": {\"outlinewidth\": 0, \"ticks\": \"\"}}, \"type\": \"scatter3d\"}], \"scattercarpet\": [{\"marker\": {\"colorbar\": {\"outlinewidth\": 0, \"ticks\": \"\"}}, \"type\": \"scattercarpet\"}], \"scattergeo\": [{\"marker\": {\"colorbar\": {\"outlinewidth\": 0, \"ticks\": \"\"}}, \"type\": \"scattergeo\"}], \"scattergl\": [{\"marker\": {\"colorbar\": {\"outlinewidth\": 0, \"ticks\": \"\"}}, \"type\": \"scattergl\"}], \"scattermapbox\": [{\"marker\": {\"colorbar\": {\"outlinewidth\": 0, \"ticks\": \"\"}}, \"type\": \"scattermapbox\"}], \"scatterpolar\": [{\"marker\": {\"colorbar\": {\"outlinewidth\": 0, \"ticks\": \"\"}}, \"type\": \"scatterpolar\"}], \"scatterpolargl\": [{\"marker\": {\"colorbar\": {\"outlinewidth\": 0, \"ticks\": \"\"}}, \"type\": \"scatterpolargl\"}], \"scatterternary\": [{\"marker\": {\"colorbar\": {\"outlinewidth\": 0, \"ticks\": \"\"}}, \"type\": \"scatterternary\"}], \"surface\": [{\"colorbar\": {\"outlinewidth\": 0, \"ticks\": \"\"}, \"colorscale\": [[0.0, \"#0d0887\"], [0.1111111111111111, \"#46039f\"], [0.2222222222222222, \"#7201a8\"], [0.3333333333333333, \"#9c179e\"], [0.4444444444444444, \"#bd3786\"], [0.5555555555555556, \"#d8576b\"], [0.6666666666666666, \"#ed7953\"], [0.7777777777777778, \"#fb9f3a\"], [0.8888888888888888, \"#fdca26\"], [1.0, \"#f0f921\"]], \"type\": \"surface\"}], \"table\": [{\"cells\": {\"fill\": {\"color\": \"#EBF0F8\"}, \"line\": {\"color\": \"white\"}}, \"header\": {\"fill\": {\"color\": \"#C8D4E3\"}, \"line\": {\"color\": \"white\"}}, \"type\": \"table\"}]}, \"layout\": {\"annotationdefaults\": {\"arrowcolor\": \"#2a3f5f\", \"arrowhead\": 0, \"arrowwidth\": 1}, \"coloraxis\": {\"colorbar\": {\"outlinewidth\": 0, \"ticks\": \"\"}}, \"colorscale\": {\"diverging\": [[0, \"#8e0152\"], [0.1, \"#c51b7d\"], [0.2, \"#de77ae\"], [0.3, \"#f1b6da\"], [0.4, \"#fde0ef\"], [0.5, \"#f7f7f7\"], [0.6, \"#e6f5d0\"], [0.7, \"#b8e186\"], [0.8, \"#7fbc41\"], [0.9, \"#4d9221\"], [1, \"#276419\"]], \"sequential\": [[0.0, \"#0d0887\"], [0.1111111111111111, \"#46039f\"], [0.2222222222222222, \"#7201a8\"], [0.3333333333333333, \"#9c179e\"], [0.4444444444444444, \"#bd3786\"], [0.5555555555555556, \"#d8576b\"], [0.6666666666666666, \"#ed7953\"], [0.7777777777777778, \"#fb9f3a\"], [0.8888888888888888, \"#fdca26\"], [1.0, \"#f0f921\"]], \"sequentialminus\": [[0.0, \"#0d0887\"], [0.1111111111111111, \"#46039f\"], [0.2222222222222222, \"#7201a8\"], [0.3333333333333333, \"#9c179e\"], [0.4444444444444444, \"#bd3786\"], [0.5555555555555556, \"#d8576b\"], [0.6666666666666666, \"#ed7953\"], [0.7777777777777778, \"#fb9f3a\"], [0.8888888888888888, \"#fdca26\"], [1.0, \"#f0f921\"]]}, \"colorway\": [\"#636efa\", \"#EF553B\", \"#00cc96\", \"#ab63fa\", \"#FFA15A\", \"#19d3f3\", \"#FF6692\", \"#B6E880\", \"#FF97FF\", \"#FECB52\"], \"font\": {\"color\": \"#2a3f5f\"}, \"geo\": {\"bgcolor\": \"white\", \"lakecolor\": \"white\", \"landcolor\": \"#E5ECF6\", \"showlakes\": true, \"showland\": true, \"subunitcolor\": \"white\"}, \"hoverlabel\": {\"align\": \"left\"}, \"hovermode\": \"closest\", \"mapbox\": {\"style\": \"light\"}, \"paper_bgcolor\": \"white\", \"plot_bgcolor\": \"#E5ECF6\", \"polar\": {\"angularaxis\": {\"gridcolor\": \"white\", \"linecolor\": \"white\", \"ticks\": \"\"}, \"bgcolor\": \"#E5ECF6\", \"radialaxis\": {\"gridcolor\": \"white\", \"linecolor\": \"white\", \"ticks\": \"\"}}, \"scene\": {\"xaxis\": {\"backgroundcolor\": \"#E5ECF6\", \"gridcolor\": \"white\", \"gridwidth\": 2, \"linecolor\": \"white\", \"showbackground\": true, \"ticks\": \"\", \"zerolinecolor\": \"white\"}, \"yaxis\": {\"backgroundcolor\": \"#E5ECF6\", \"gridcolor\": \"white\", \"gridwidth\": 2, \"linecolor\": \"white\", \"showbackground\": true, \"ticks\": \"\", \"zerolinecolor\": \"white\"}, \"zaxis\": {\"backgroundcolor\": \"#E5ECF6\", \"gridcolor\": \"white\", \"gridwidth\": 2, \"linecolor\": \"white\", \"showbackground\": true, \"ticks\": \"\", \"zerolinecolor\": \"white\"}}, \"shapedefaults\": {\"line\": {\"color\": \"#2a3f5f\"}}, \"ternary\": {\"aaxis\": {\"gridcolor\": \"white\", \"linecolor\": \"white\", \"ticks\": \"\"}, \"baxis\": {\"gridcolor\": \"white\", \"linecolor\": \"white\", \"ticks\": \"\"}, \"bgcolor\": \"#E5ECF6\", \"caxis\": {\"gridcolor\": \"white\", \"linecolor\": \"white\", \"ticks\": \"\"}}, \"title\": {\"x\": 0.05}, \"xaxis\": {\"automargin\": true, \"gridcolor\": \"white\", \"linecolor\": \"white\", \"ticks\": \"\", \"title\": {\"standoff\": 15}, \"zerolinecolor\": \"white\", \"zerolinewidth\": 2}, \"yaxis\": {\"automargin\": true, \"gridcolor\": \"white\", \"linecolor\": \"white\", \"ticks\": \"\", \"title\": {\"standoff\": 15}, \"zerolinecolor\": \"white\", \"zerolinewidth\": 2}}}, \"title\": {\"text\": \"Driving Distance vs. Putts Per Round\", \"x\": 0.5}, \"xaxis\": {\"anchor\": \"y\", \"domain\": [0.0, 1.0], \"title\": {\"text\": \"Driving Distance - (AVG.)\"}}, \"yaxis\": {\"anchor\": \"x\", \"domain\": [0.0, 1.0], \"title\": {\"text\": \"Putts Per Round - (AVG)\"}}},                        {\"responsive\": true}                    ).then(function(){\n",
       "                            \n",
       "var gd = document.getElementById('27d4e617-49b1-41c1-82e8-7227756b354a');\n",
       "var x = new MutationObserver(function (mutations, observer) {{\n",
       "        var display = window.getComputedStyle(gd).display;\n",
       "        if (!display || display === 'none') {{\n",
       "            console.log([gd, 'removed!']);\n",
       "            Plotly.purge(gd);\n",
       "            observer.disconnect();\n",
       "        }}\n",
       "}});\n",
       "\n",
       "// Listen for the removal of the full notebook cells\n",
       "var notebookContainer = gd.closest('#notebook-container');\n",
       "if (notebookContainer) {{\n",
       "    x.observe(notebookContainer, {childList: true});\n",
       "}}\n",
       "\n",
       "// Listen for the clearing of the current output cell\n",
       "var outputEl = gd.closest('.output');\n",
       "if (outputEl) {{\n",
       "    x.observe(outputEl, {childList: true});\n",
       "}}\n",
       "\n",
       "                        })                };                });            </script>        </div>"
      ]
     },
     "metadata": {},
     "output_type": "display_data"
    }
   ],
   "source": [
    "fig = px.scatter(df, x='Driving Distance - (AVG.)', y='Putts Per Round - (AVG)', trendline='ols')\n",
    "fig.update_layout(title_text='Driving Distance vs. Putts Per Round', title_x=0.5)\n",
    "fig.show()"
   ]
  },
  {
   "cell_type": "markdown",
   "metadata": {},
   "source": [
    "Now this is a very interesting result. One might think that being a good putter might be a sign of compensating for distance, but the ordinary least squares regression line has a slope of nearly zero!"
   ]
  },
  {
   "cell_type": "code",
   "execution_count": null,
   "metadata": {},
   "outputs": [],
   "source": []
  }
 ],
 "metadata": {
  "kernelspec": {
   "display_name": "Python 3",
   "language": "python",
   "name": "python3"
  },
  "language_info": {
   "codemirror_mode": {
    "name": "ipython",
    "version": 3
   },
   "file_extension": ".py",
   "mimetype": "text/x-python",
   "name": "python",
   "nbconvert_exporter": "python",
   "pygments_lexer": "ipython3",
   "version": "3.7.6"
  }
 },
 "nbformat": 4,
 "nbformat_minor": 2
}
